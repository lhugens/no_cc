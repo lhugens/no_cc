{
 "cells": [
  {
   "cell_type": "markdown",
   "id": "748e2389-7035-4a9a-8832-c136d45d0d91",
   "metadata": {},
   "source": [
    "Version of programs and libraries used"
   ]
  },
  {
   "cell_type": "code",
   "execution_count": 20,
   "id": "912e2ab7-6891-41b6-b115-d0cce0a7c8b8",
   "metadata": {},
   "outputs": [
    {
     "name": "stdout",
     "output_type": "stream",
     "text": [
      "Python version: 3.11.2 (main, Mar 13 2023, 12:18:29) [GCC 12.2.0]\n",
      "Jupyter Lab verions: 4.0.6\n"
     ]
    }
   ],
   "source": [
    "import sys\n",
    "import jupyterlab\n",
    "\n",
    "print(f\"Python version: {sys.version}\")\n",
    "print(f\"Jupyter Lab verions: {jupyterlab.__version__}\")"
   ]
  },
  {
   "cell_type": "code",
   "execution_count": 14,
   "id": "5539f324-1aae-4f23-9f80-e9cac4297974",
   "metadata": {},
   "outputs": [
    {
     "name": "stdout",
     "output_type": "stream",
     "text": [
      "networkx version: 3.1\n",
      "matplotlib verion: 3.8.0\n"
     ]
    }
   ],
   "source": [
    "import random\n",
    "import networkx\n",
    "import matplotlib\n",
    "\n",
    "#print(f\"random version: {random.__version__}\") \n",
    "#does not work, version corresponds to Python version itself\n",
    "print(f\"networkx version: {networkx.__version__}\")\n",
    "print(f\"matplotlib verion: {matplotlib.__version__}\")"
   ]
  },
  {
   "cell_type": "markdown",
   "id": "b0a10ee8-c385-4ae8-9293-1da56db29838",
   "metadata": {},
   "source": [
    "Graph definition"
   ]
  },
  {
   "cell_type": "code",
   "execution_count": 21,
   "id": "f1bb261e-6660-4698-9b03-b6b1d7f83751",
   "metadata": {},
   "outputs": [],
   "source": [
    "V = [1, 2, 3, 4, 5]\n",
    "E = [(1, 2), (3, 4), (1, 5)]"
   ]
  },
  {
   "cell_type": "markdown",
   "id": "d514e38e-a83e-4383-abcc-de36f9236967",
   "metadata": {},
   "source": [
    "Graph usefull function"
   ]
  },
  {
   "cell_type": "code",
   "execution_count": 31,
   "id": "029082c0-c85c-41d9-ba01-e556386e546a",
   "metadata": {},
   "outputs": [],
   "source": [
    "# Build Graph in networkx format\n",
    "# Use Graph naming convention to imply networkx usage\n",
    "def build_Graph(V, E):\n",
    "    Graph = networkx.Graph()\n",
    "    Graph.add_nodes_from(V)\n",
    "    Graph.add_edges_from(E)\n",
    "    return Graph\n",
    "\n",
    "# Example\n",
    "Graph = build_Graph(V, E)"
   ]
  },
  {
   "cell_type": "code",
   "execution_count": 32,
   "id": "bd743bcf-8a8d-457b-8847-0cde00fadc79",
   "metadata": {},
   "outputs": [
    {
     "data": {
      "image/png": "[encoded data removed]",
      "text/plain": [
       "<Figure size 640x480 with 1 Axes>"
      ]
     },
     "metadata": {},
     "output_type": "display_data"
    }
   ],
   "source": [
    "# Visualize Graph\n",
    "def plot_graph(Graph):\n",
    "    networkx.draw(Graph, with_labels=True)\n",
    "\n",
    "plot_graph(Graph)"
   ]
  },
  {
   "cell_type": "code",
   "execution_count": 33,
   "id": "8805713f-bc50-4093-ab8a-f4df198b8c17",
   "metadata": {},
   "outputs": [
    {
     "name": "stdout",
     "output_type": "stream",
     "text": [
      "{1: [2, 5], 2: [1], 3: [4], 4: [3], 5: [1]}\n"
     ]
    }
   ],
   "source": [
    "# Build graph in dictionary format, keys are nodes, values are the list of edges connected to each nodes\n",
    "# graph naming convection for this format\n",
    "def build_graph(V, E):\n",
    "    return {i: [j for j in V if j!=i and (i, j) in E or (j, i) in E] for i in V}\n",
    "\n",
    "graph = build_graph(V, E)\n",
    "print(graph)"
   ]
  },
  {
   "cell_type": "markdown",
   "id": "c221d2aa-1a26-4987-8243-5eb803543375",
   "metadata": {},
   "source": [
    "Random graph generation"
   ]
  },
  {
   "cell_type": "code",
   "execution_count": 39,
   "id": "363acc7f-e347-4289-bd7c-3d9d5a2a459b",
   "metadata": {},
   "outputs": [
    {
     "name": "stdout",
     "output_type": "stream",
     "text": [
      "V = [1, 2, 3, 4, 5]\n",
      "E = {(4, 5), (2, 5), (3, 5), (1, 5)}\n"
     ]
    }
   ],
   "source": [
    "def generate_random_graph(n, k, r):\n",
    "    \"\"\"Set random seed to 'r' and create a graph with 'n' vertices and (up to) n * k edges.\"\"\"\n",
    "    random.seed(r)\n",
    "    V = list(range(1,n+1))\n",
    "    E = set()\n",
    "    for _ in range(n*k):\n",
    "        i = random.randint(1,n)\n",
    "        j = random.randint(1,n)\n",
    "        if i != j:\n",
    "            i, j = min(i,j), max(i,j)\n",
    "            E.add((i,j))\n",
    "    return V, E\n",
    "\n",
    "V, E = generate_random_graph(5, 1, 3)\n",
    "print(f\"V = {V}\")\n",
    "print(f\"E = {E}\")"
   ]
  },
  {
   "cell_type": "markdown",
   "id": "e05ec781-4782-41a3-b863-dd8a5a36fe64",
   "metadata": {},
   "source": [
    "File management tools"
   ]
  },
  {
   "cell_type": "code",
   "execution_count": 40,
   "id": "c017187c-1208-4cd2-836d-8441c892d793",
   "metadata": {},
   "outputs": [],
   "source": [
    "def write_instance(V, E, filename):\n",
    "    \"\"\"Write a graph instance to a file (loosely, in a format used in DIMACS challenges).\"\"\"\n",
    "    with open(filename, \"w\") as f:\n",
    "        f.write(f\"Nodes {n}\\n\")\n",
    "        f.write(f\"Edges {len(E)}\\n\")\n",
    "        for (i,j) in E:\n",
    "            f.write(f\"E {i} {j}\\n\")\n",
    "\n",
    "def read_instance(filename):\n",
    "    \"\"\"Read a graph from a file.\"\"\"\n",
    "    try:\n",
    "        if len(filename)>3 and filename[-3:] == \".gz\":  # file compressed with gzip\n",
    "            import gzip\n",
    "            f = gzip.open(filename, \"rt\")\n",
    "        else:   # usual, uncompressed file\n",
    "            f = open(filename)\n",
    "    except IOError:\n",
    "        print(\"could not open file\", filename)\n",
    "        exit(-1)\n",
    "\n",
    "    edges = set()\n",
    "    for line in f:\n",
    "        if line[0:6].lower() == 'edges ':\n",
    "            e, n_edges = line.split()\n",
    "            n_edges = int(n_edges)\n",
    "        elif line[0:6].lower() == 'nodes ':\n",
    "            e, n_nodes = line.split()\n",
    "            n_nodes = int(n_nodes)\n",
    "        elif line[0:2].lower() == 'e ':\n",
    "            e, i, j = line.split()\n",
    "            i, j = int(i), int(j)\n",
    "            i, j = min(i,j), max(i,j)\n",
    "            edges.add((i,j))\n",
    "    f.close()\n",
    "\n",
    "    assert n_edges == len(edges)\n",
    "    vertices = list(range(1,n_nodes+1))\n",
    "    return vertices, list(edges)"
   ]
  },
  {
   "cell_type": "markdown",
   "id": "7c4afcc3-449d-442f-8108-8f8cc2a433aa",
   "metadata": {},
   "source": [
    "Generate random graphs using predefined random seeds and write them to files"
   ]
  },
  {
   "cell_type": "code",
   "execution_count": 44,
   "id": "b19bca36-87b9-4812-a9bd-82355de6e569",
   "metadata": {},
   "outputs": [],
   "source": [
    "#for n in [100, 1000, 10000, 100000, 1000000]:\n",
    "#    for k in [1, 2, 5, 10]:\n",
    "#        for r in range(1,11):\n",
    "#            V, E = generate_random_graph(n, k, r)\n",
    "#            filename = f\"graphs/G{n}-{k}-{r}.graph\"\n",
    "#            write_instance(V, E, filename)"
   ]
  },
  {
   "cell_type": "markdown",
   "id": "91cf59cc-695e-4610-b339-3e931b764a5f",
   "metadata": {},
   "source": [
    "networkx method for finding the number of connected components in a graph"
   ]
  },
  {
   "cell_type": "code",
   "execution_count": 49,
   "id": "765b303d-d813-45a8-b98c-9973c47667f6",
   "metadata": {},
   "outputs": [
    {
     "name": "stdout",
     "output_type": "stream",
     "text": [
      "{1: [2, 5], 2: [1], 3: [4], 4: [3], 5: [1]}\n",
      "no. of connected components: 2\n"
     ]
    }
   ],
   "source": [
    "def default_method(V, E):\n",
    "    G = networkx.Graph()\n",
    "    G.add_nodes_from(V)\n",
    "    G.add_edges_from(E)\n",
    "    return len(list(networkx.connected_components(G)))\n",
    "    \n",
    "# graph visulized previously\n",
    "V = [1, 2, 3, 4, 5]\n",
    "E = [(1, 2), (3, 4), (1, 5)]\n",
    "print(build_graph(V, E))\n",
    "print(f\"no. of connected components: {default_method(V,E)}\")"
   ]
  },
  {
   "cell_type": "markdown",
   "id": "636b7230-40b0-4f30-822f-1487bc4e997f",
   "metadata": {},
   "source": [
    "Alternative method for finding the number of connected components in a graph"
   ]
  },
  {
   "cell_type": "code",
   "execution_count": 52,
   "id": "202be7d6-120b-48fe-b622-c25a3ec096f0",
   "metadata": {},
   "outputs": [
    {
     "name": "stdout",
     "output_type": "stream",
     "text": [
      "{1: [2, 5], 2: [1], 3: [4], 4: [3], 5: [1]}\n",
      "no. of connected components: 2\n"
     ]
    }
   ],
   "source": [
    "class my_no_connected_components:\n",
    "    def __init__(self, g):\n",
    "        self.g = g\n",
    "        self.visited = {}\n",
    "        self.V = g.keys()\n",
    "        self.ncc = 0\n",
    "        for k in self.V:\n",
    "            self.visited[k] = self.visited.get(k, False)\n",
    "\n",
    "    def find(self):\n",
    "        for k in self.V:\n",
    "            if self.visited[k] == False:\n",
    "                self.dfs(k)\n",
    "                self.ncc+=1\n",
    "        return self.ncc\n",
    "\n",
    "    def dfs(self, k):\n",
    "        self.visited[k] = True\n",
    "        for p in self.g[k]:\n",
    "            if self.visited[p] == False:\n",
    "                self.dfs(p)\n",
    "\n",
    "def alternative_method(V, E):\n",
    "    return my_no_connected_components(build_graph(V,E)).find()\n",
    "\n",
    "# graph visulized previously\n",
    "V = [1, 2, 3, 4, 5]\n",
    "E = [(1, 2), (3, 4), (1, 5)]\n",
    "print(build_graph(V, E))\n",
    "print(f\"no. of connected components: {alternative_method(V,E)}\")"
   ]
  },
  {
   "cell_type": "markdown",
   "id": "53e8eba1-5620-4f5c-bd11-ae33b2bbdb84",
   "metadata": {},
   "source": [
    "Read graphs from files and solving them using both the default method and the alternative method, computing the cpu seconds, and writing that comparison data to files"
   ]
  },
  {
   "cell_type": "code",
   "execution_count": 60,
   "id": "545ba031-46a2-42b3-ba95-ddde2a156439",
   "metadata": {},
   "outputs": [
    {
     "ename": "SyntaxError",
     "evalue": "unterminated string literal (detected at line 2) (2192531241.py, line 2)",
     "output_type": "error",
     "traceback": [
      "\u001b[0;36m  Cell \u001b[0;32mIn[60], line 2\u001b[0;36m\u001b[0m\n\u001b[0;31m    f.write(f\"{:<8} {:<9} {:<9} {:<10}\".format('nV','nE','ncc','cpu_seconds')\")\u001b[0m\n\u001b[0m                                                                             ^\u001b[0m\n\u001b[0;31mSyntaxError\u001b[0m\u001b[0;31m:\u001b[0m unterminated string literal (detected at line 2)\n"
     ]
    }
   ],
   "source": [
    "with open(\"results\", \"w\") as f:\n",
    "    f.write(f\"{:<8} {:<9} {:<9} {:<10}\".format('nV','nE','ncc','cpu_seconds')\")\n",
    "    for n in [100]:\n",
    "        for k in [1]:\n",
    "            for r in range(1,2):\n",
    "                # read graph from file\n",
    "                graph_filename = f\"graphs/G{n}-{k}-{r}.graph\"\n",
    "                V, E = read_instance(graph_filename)\n",
    "                \n",
    "                # defult method\n",
    "                start = time.process_time()\n",
    "                ncomponents_default = default_method(V,E)\n",
    "                end = time.process_time()\n",
    "                cpu_default = end - start\n",
    "                print(f\"{graph_filename}: {ncomponents_default} components, {cpu_default} seconds\")\n",
    "                f.write(f\"{:<8} {:<9} {:<9} {:<10}\".format(len(V), len(E), ncomponents_deault, cpu_default))\n",
    "                # alternative method\n",
    "                start = time.process_time()\n",
    "                ncomponents_alternative = alternative_method(V,E)\n",
    "                end = time.process_time()\n",
    "                cpu_alternative = end - start\n",
    "                print(f\"{graph_filename}: {ncomponents_alternative} components, {cpu_alternative} seconds\")\n",
    "                f.write(f\"{:<8} {:<9} {:<9} {:<10}\".format(len(V), len(E), ncomponents_alternative, cpu_alternative))\n",
    "                \n",
    "                if ncomponents != my_ncomponents:\n",
    "                    print(\"Error\")\n",
    "                    exit(-1)\n",
    "                \n"
   ]
  },
  {
   "cell_type": "code",
   "execution_count": 57,
   "id": "153305d8-2b9b-4746-a024-cea4537d2f2f",
   "metadata": {},
   "outputs": [
    {
     "name": "stdout",
     "output_type": "stream",
     "text": [
      "nV       nE        ncc       cpu_seconds\n",
      "1        2         3         4         \n",
      "5        6         7         9         \n"
     ]
    }
   ],
   "source": [
    "print (\"{:<8} {:<9} {:<9} {:<10}\".format('nV','nE','ncc','cpu_seconds'))\n",
    "for a, b, c, d in [[1, 2, 3, 4], [5, 6, 7, 9]]:\n",
    "    print (\"{:<8} {:<9} {:<9} {:<10}\".format(a, b, c, d))"
   ]
  },
  {
   "cell_type": "code",
   "execution_count": 55,
   "id": "ccaa69e6-89a2-4136-a3c3-7d542f59c4de",
   "metadata": {},
   "outputs": [
    {
     "data": {
      "text/plain": [
       "8"
      ]
     },
     "execution_count": 55,
     "metadata": {},
     "output_type": "execute_result"
    }
   ],
   "source": [
    "len(\"10000000\")"
   ]
  },
  {
   "cell_type": "code",
   "execution_count": null,
   "id": "e43e7a0f-eb83-4f6a-aea7-fc4ec14b7097",
   "metadata": {},
   "outputs": [],
   "source": []
  }
 ],
 "metadata": {
  "kernelspec": {
   "display_name": "Python 3 (ipykernel)",
   "language": "python",
   "name": "python3"
  },
  "language_info": {
   "codemirror_mode": {
    "name": "ipython",
    "version": 3
   },
   "file_extension": ".py",
   "mimetype": "text/x-python",
   "name": "python",
   "nbconvert_exporter": "python",
   "pygments_lexer": "ipython3",
   "version": "3.11.2"
  }
 },
 "nbformat": 4,
 "nbformat_minor": 5
}

{
 "cells": [
  {
   "cell_type": "markdown",
   "id": "748e2389-7035-4a9a-8832-c136d45d0d91",
   "metadata": {
    "id": "748e2389-7035-4a9a-8832-c136d45d0d91"
   },
   "source": [
    "Version of programs and libraries used"
   ]
  },
  {
   "cell_type": "code",
   "execution_count": 1,
   "id": "WnELueIfN9NB",
   "metadata": {
    "colab": {
     "base_uri": "https://localhost:8080/"
    },
    "executionInfo": {
     "elapsed": 20797,
     "status": "ok",
     "timestamp": 1695578368318,
     "user": {
      "displayName": "Leonardo Lobato Dias Leite Hügens",
      "userId": "11861312817274715395"
     },
     "user_tz": -60
    },
    "id": "WnELueIfN9NB",
    "outputId": "fe5cf768-ceb2-439b-ffe9-a6478436df9b"
   },
   "outputs": [],
   "source": [
    "#from google.colab import drive\n",
    "#drive.mount('/content/drive')"
   ]
  },
  {
   "cell_type": "code",
   "execution_count": 2,
   "id": "KwhZQtn1T6-7",
   "metadata": {
    "executionInfo": {
     "elapsed": 280,
     "status": "ok",
     "timestamp": 1695578377702,
     "user": {
      "displayName": "Leonardo Lobato Dias Leite Hügens",
      "userId": "11861312817274715395"
     },
     "user_tz": -60
    },
    "id": "KwhZQtn1T6-7"
   },
   "outputs": [],
   "source": [
    "#import os\n",
    "#folder_path = '/content/drive/My Drive/Colab Notebooks/'\n",
    "#os.chdir(folder_path)"
   ]
  },
  {
   "cell_type": "code",
   "execution_count": 3,
   "id": "912e2ab7-6891-41b6-b115-d0cce0a7c8b8",
   "metadata": {
    "colab": {
     "base_uri": "https://localhost:8080/"
    },
    "executionInfo": {
     "elapsed": 3,
     "status": "ok",
     "timestamp": 1695578378848,
     "user": {
      "displayName": "Leonardo Lobato Dias Leite Hügens",
      "userId": "11861312817274715395"
     },
     "user_tz": -60
    },
    "id": "912e2ab7-6891-41b6-b115-d0cce0a7c8b8",
    "outputId": "f6916299-557d-4cf3-998f-03c141273b4e"
   },
   "outputs": [
    {
     "name": "stdout",
     "output_type": "stream",
     "text": [
      "Python version: 3.11.2 (main, Mar 13 2023, 12:18:29) [GCC 12.2.0]\n"
     ]
    }
   ],
   "source": [
    "import sys\n",
    "\n",
    "print(f\"Python version: {sys.version}\")"
   ]
  },
  {
   "cell_type": "code",
   "execution_count": 4,
   "id": "5539f324-1aae-4f23-9f80-e9cac4297974",
   "metadata": {
    "colab": {
     "base_uri": "https://localhost:8080/"
    },
    "executionInfo": {
     "elapsed": 321,
     "status": "ok",
     "timestamp": 1695578379586,
     "user": {
      "displayName": "Leonardo Lobato Dias Leite Hügens",
      "userId": "11861312817274715395"
     },
     "user_tz": -60
    },
    "id": "5539f324-1aae-4f23-9f80-e9cac4297974",
    "outputId": "23c43c88-3aa8-4722-b1f3-4f6eafb5a02f"
   },
   "outputs": [
    {
     "name": "stdout",
     "output_type": "stream",
     "text": [
      "networkx version: 3.1\n",
      "matplotlib verion: 3.8.0\n",
      "numpy verion: 1.26.0\n",
      "ctypes verion: 1.1.0\n"
     ]
    }
   ],
   "source": [
    "import random\n",
    "import time\n",
    "import networkx\n",
    "import matplotlib\n",
    "import matplotlib.pyplot as plt\n",
    "import numpy\n",
    "import ctypes \n",
    "\n",
    "#print(f\"random version: {random.__version__}\")\n",
    "#does not work, version corresponds to Python version itself\n",
    "print(f\"networkx version: {networkx.__version__}\")\n",
    "print(f\"matplotlib verion: {matplotlib.__version__}\")\n",
    "print(f\"numpy verion: {numpy.__version__}\")\n",
    "print(f\"ctypes verion: {ctypes.__version__}\")"
   ]
  },
  {
   "cell_type": "markdown",
   "id": "b0a10ee8-c385-4ae8-9293-1da56db29838",
   "metadata": {
    "id": "b0a10ee8-c385-4ae8-9293-1da56db29838"
   },
   "source": [
    "Graph definition"
   ]
  },
  {
   "cell_type": "code",
   "execution_count": 5,
   "id": "f1bb261e-6660-4698-9b03-b6b1d7f83751",
   "metadata": {
    "executionInfo": {
     "elapsed": 277,
     "status": "ok",
     "timestamp": 1695578381008,
     "user": {
      "displayName": "Leonardo Lobato Dias Leite Hügens",
      "userId": "11861312817274715395"
     },
     "user_tz": -60
    },
    "id": "f1bb261e-6660-4698-9b03-b6b1d7f83751"
   },
   "outputs": [],
   "source": [
    "V = [1, 2, 3, 4, 5]\n",
    "E = [(1, 2), (3, 4), (1, 5)]"
   ]
  },
  {
   "cell_type": "markdown",
   "id": "d514e38e-a83e-4383-abcc-de36f9236967",
   "metadata": {
    "id": "d514e38e-a83e-4383-abcc-de36f9236967"
   },
   "source": [
    "Graph usefull function"
   ]
  },
  {
   "cell_type": "code",
   "execution_count": 6,
   "id": "029082c0-c85c-41d9-ba01-e556386e546a",
   "metadata": {
    "executionInfo": {
     "elapsed": 3,
     "status": "ok",
     "timestamp": 1695578382322,
     "user": {
      "displayName": "Leonardo Lobato Dias Leite Hügens",
      "userId": "11861312817274715395"
     },
     "user_tz": -60
    },
    "id": "029082c0-c85c-41d9-ba01-e556386e546a"
   },
   "outputs": [],
   "source": [
    "# Build Graph in networkx format\n",
    "# Use Graph naming convention to imply networkx usage\n",
    "def build_Graph(V, E):\n",
    "    Graph = networkx.Graph()\n",
    "    Graph.add_nodes_from(V)\n",
    "    Graph.add_edges_from(E)\n",
    "    return Graph\n",
    "\n",
    "# Example\n",
    "Graph = build_Graph(V, E)"
   ]
  },
  {
   "cell_type": "code",
   "execution_count": 7,
   "id": "bd743bcf-8a8d-457b-8847-0cde00fadc79",
   "metadata": {
    "colab": {
     "base_uri": "https://localhost:8080/",
     "height": 516
    },
    "executionInfo": {
     "elapsed": 409,
     "status": "ok",
     "timestamp": 1695578383190,
     "user": {
      "displayName": "Leonardo Lobato Dias Leite Hügens",
      "userId": "11861312817274715395"
     },
     "user_tz": -60
    },
    "id": "bd743bcf-8a8d-457b-8847-0cde00fadc79",
    "outputId": "1396eba0-d201-458d-ec2c-0e12e3783fe3"
   },
   "outputs": [
    {
     "data": {
      "image/png": "[encoded data removed]",
      "text/plain": [
       "<Figure size 640x480 with 1 Axes>"
      ]
     },
     "metadata": {},
     "output_type": "display_data"
    }
   ],
   "source": [
    "# Visualize Graph\n",
    "def plot_graph(Graph):\n",
    "    networkx.draw(Graph, with_labels=True)\n",
    "\n",
    "plot_graph(Graph)"
   ]
  },
  {
   "cell_type": "code",
   "execution_count": 8,
   "id": "8805713f-bc50-4093-ab8a-f4df198b8c17",
   "metadata": {
    "colab": {
     "base_uri": "https://localhost:8080/"
    },
    "executionInfo": {
     "elapsed": 6,
     "status": "ok",
     "timestamp": 1695578383191,
     "user": {
      "displayName": "Leonardo Lobato Dias Leite Hügens",
      "userId": "11861312817274715395"
     },
     "user_tz": -60
    },
    "id": "8805713f-bc50-4093-ab8a-f4df198b8c17",
    "outputId": "d347336b-cd07-4efc-dc71-d29cb85dd35b"
   },
   "outputs": [
    {
     "name": "stdout",
     "output_type": "stream",
     "text": [
      "{1: [2, 5], 2: [1], 3: [4], 4: [3], 5: [1]}\n"
     ]
    }
   ],
   "source": [
    "# Build graph in dictionary format, keys are nodes, values are the list of edges connected to each nodes\n",
    "# graph naming convection for this format\n",
    "def build_graph(V, E):\n",
    "    return {i: [j for j in V if j!=i and (i, j) in E or (j, i) in E] for i in V}\n",
    "\n",
    "graph = build_graph(V, E)\n",
    "print(graph)"
   ]
  },
  {
   "cell_type": "markdown",
   "id": "c221d2aa-1a26-4987-8243-5eb803543375",
   "metadata": {
    "id": "c221d2aa-1a26-4987-8243-5eb803543375"
   },
   "source": [
    "Random graph generation"
   ]
  },
  {
   "cell_type": "code",
   "execution_count": 9,
   "id": "363acc7f-e347-4289-bd7c-3d9d5a2a459b",
   "metadata": {
    "colab": {
     "base_uri": "https://localhost:8080/"
    },
    "executionInfo": {
     "elapsed": 312,
     "status": "ok",
     "timestamp": 1695578384799,
     "user": {
      "displayName": "Leonardo Lobato Dias Leite Hügens",
      "userId": "11861312817274715395"
     },
     "user_tz": -60
    },
    "id": "363acc7f-e347-4289-bd7c-3d9d5a2a459b",
    "outputId": "dd4cb20c-ce69-4abc-a549-eb59a5883ad6"
   },
   "outputs": [
    {
     "name": "stdout",
     "output_type": "stream",
     "text": [
      "V = [1, 2, 3, 4, 5]\n",
      "E = {(4, 5), (2, 5), (3, 5), (1, 5)}\n"
     ]
    }
   ],
   "source": [
    "def generate_random_graph(n, k, r):\n",
    "    \"\"\"Set random seed to 'r' and create a graph with 'n' vertices and (up to) n * k edges.\"\"\"\n",
    "    random.seed(r)\n",
    "    V = list(range(1,n+1))\n",
    "    E = set()\n",
    "    for _ in range(n*k):\n",
    "        i = random.randint(1,n)\n",
    "        j = random.randint(1,n)\n",
    "        if i != j:\n",
    "            i, j = min(i,j), max(i,j)\n",
    "            E.add((i,j))\n",
    "    return V, E\n",
    "\n",
    "V, E = generate_random_graph(5, 1, 3)\n",
    "print(f\"V = {V}\")\n",
    "print(f\"E = {E}\")"
   ]
  },
  {
   "cell_type": "markdown",
   "id": "e05ec781-4782-41a3-b863-dd8a5a36fe64",
   "metadata": {
    "id": "e05ec781-4782-41a3-b863-dd8a5a36fe64"
   },
   "source": [
    "File management tools"
   ]
  },
  {
   "cell_type": "code",
   "execution_count": 10,
   "id": "c017187c-1208-4cd2-836d-8441c892d793",
   "metadata": {
    "executionInfo": {
     "elapsed": 7,
     "status": "ok",
     "timestamp": 1695578386159,
     "user": {
      "displayName": "Leonardo Lobato Dias Leite Hügens",
      "userId": "11861312817274715395"
     },
     "user_tz": -60
    },
    "id": "c017187c-1208-4cd2-836d-8441c892d793"
   },
   "outputs": [],
   "source": [
    "def write_instance(V, E, filename):\n",
    "    \"\"\"Write a graph instance to a file (loosely, in a format used in DIMACS challenges).\"\"\"\n",
    "    with open(filename, \"w\") as f:\n",
    "        f.write(f\"Nodes {n}\\n\")\n",
    "        f.write(f\"Edges {len(E)}\\n\")\n",
    "        for (i,j) in E:\n",
    "            f.write(f\"E {i} {j}\\n\")\n",
    "\n",
    "def read_instance(filename):\n",
    "    \"\"\"Read a graph from a file.\"\"\"\n",
    "    try:\n",
    "        if len(filename)>3 and filename[-3:] == \".gz\":  # file compressed with gzip\n",
    "            import gzip\n",
    "            f = gzip.open(filename, \"rt\")\n",
    "        else:   # usual, uncompressed file\n",
    "            f = open(filename)\n",
    "    except IOError:\n",
    "        print(\"could not open file\", filename)\n",
    "        exit(-1)\n",
    "\n",
    "    edges = set()\n",
    "    for line in f:\n",
    "        if line[0:6].lower() == 'edges ':\n",
    "            e, n_edges = line.split()\n",
    "            n_edges = int(n_edges)\n",
    "        elif line[0:6].lower() == 'nodes ':\n",
    "            e, n_nodes = line.split()\n",
    "            n_nodes = int(n_nodes)\n",
    "        elif line[0:2].lower() == 'e ':\n",
    "            e, i, j = line.split()\n",
    "            i, j = int(i), int(j)\n",
    "            i, j = min(i,j), max(i,j)\n",
    "            edges.add((i,j))\n",
    "    f.close()\n",
    "\n",
    "    assert n_edges == len(edges)\n",
    "    vertices = list(range(1,n_nodes+1))\n",
    "    return vertices, list(edges)"
   ]
  },
  {
   "cell_type": "markdown",
   "id": "7c4afcc3-449d-442f-8108-8f8cc2a433aa",
   "metadata": {
    "id": "7c4afcc3-449d-442f-8108-8f8cc2a433aa"
   },
   "source": [
    "Generate random graphs using predefined random seeds and write them to files"
   ]
  },
  {
   "cell_type": "code",
   "execution_count": 11,
   "id": "b19bca36-87b9-4812-a9bd-82355de6e569",
   "metadata": {
    "executionInfo": {
     "elapsed": 283,
     "status": "ok",
     "timestamp": 1695578388563,
     "user": {
      "displayName": "Leonardo Lobato Dias Leite Hügens",
      "userId": "11861312817274715395"
     },
     "user_tz": -60
    },
    "id": "b19bca36-87b9-4812-a9bd-82355de6e569"
   },
   "outputs": [],
   "source": [
    "#for n in [100, 1000, 10000, 100000, 1000000]:\n",
    "#    for k in [1, 2, 5, 10]:\n",
    "#        for r in range(1,11):\n",
    "#            V, E = generate_random_graph(n, k, r)\n",
    "#            filename = f\"graphs/G{n}-{k}-{r}.graph\"\n",
    "#            write_instance(V, E, filename)"
   ]
  },
  {
   "cell_type": "markdown",
   "id": "91cf59cc-695e-4610-b339-3e931b764a5f",
   "metadata": {
    "id": "91cf59cc-695e-4610-b339-3e931b764a5f"
   },
   "source": [
    "networkx method for finding the number of connected components in a graph"
   ]
  },
  {
   "cell_type": "code",
   "execution_count": 12,
   "id": "765b303d-d813-45a8-b98c-9973c47667f6",
   "metadata": {
    "colab": {
     "base_uri": "https://localhost:8080/"
    },
    "executionInfo": {
     "elapsed": 9,
     "status": "ok",
     "timestamp": 1695578389753,
     "user": {
      "displayName": "Leonardo Lobato Dias Leite Hügens",
      "userId": "11861312817274715395"
     },
     "user_tz": -60
    },
    "id": "765b303d-d813-45a8-b98c-9973c47667f6",
    "outputId": "2f19e728-582e-4e1c-ac0a-43454623e191"
   },
   "outputs": [
    {
     "name": "stdout",
     "output_type": "stream",
     "text": [
      "{1: [2, 5], 2: [1], 3: [4], 4: [3], 5: [1]}\n",
      "no. of connected components: 2\n"
     ]
    }
   ],
   "source": [
    "def default_method(V, E):\n",
    "    G = networkx.Graph()\n",
    "    G.add_nodes_from(V)\n",
    "    G.add_edges_from(E)\n",
    "    return len(list(networkx.connected_components(G)))\n",
    "\n",
    "# graph visulized previously\n",
    "V = [1, 2, 3, 4, 5]\n",
    "E = [(1, 2), (3, 4), (1, 5)]\n",
    "print(build_graph(V, E))\n",
    "print(f\"no. of connected components: {default_method(V,E)}\")"
   ]
  },
  {
   "cell_type": "markdown",
   "id": "636b7230-40b0-4f30-822f-1487bc4e997f",
   "metadata": {
    "id": "636b7230-40b0-4f30-822f-1487bc4e997f"
   },
   "source": [
    "Alternative method for finding the number of connected components in a graph"
   ]
  },
  {
   "cell_type": "code",
   "execution_count": 13,
   "id": "202be7d6-120b-48fe-b622-c25a3ec096f0",
   "metadata": {
    "colab": {
     "base_uri": "https://localhost:8080/"
    },
    "executionInfo": {
     "elapsed": 8,
     "status": "ok",
     "timestamp": 1695578391158,
     "user": {
      "displayName": "Leonardo Lobato Dias Leite Hügens",
      "userId": "11861312817274715395"
     },
     "user_tz": -60
    },
    "id": "202be7d6-120b-48fe-b622-c25a3ec096f0",
    "outputId": "77d7036e-ba7b-4fdc-8e79-3cd422f08bfe"
   },
   "outputs": [
    {
     "name": "stdout",
     "output_type": "stream",
     "text": [
      "{1: [2, 5], 2: [1], 3: [4], 4: [3], 5: [1]}\n",
      "no. of connected components: 2\n"
     ]
    }
   ],
   "source": [
    "class my_no_connected_components:\n",
    "    def __init__(self, g):\n",
    "        self.g = g\n",
    "        self.visited = {}\n",
    "        self.V = g.keys()\n",
    "        self.ncc = 0\n",
    "        for k in self.V:\n",
    "            self.visited[k] = self.visited.get(k, False)\n",
    "\n",
    "    def find(self):\n",
    "        for k in self.V:\n",
    "            if self.visited[k] == False:\n",
    "                self.dfs(k)\n",
    "                self.ncc+=1\n",
    "        return self.ncc\n",
    "\n",
    "    def dfs(self, k):\n",
    "        self.visited[k] = True\n",
    "        for p in self.g[k]:\n",
    "            if self.visited[p] == False:\n",
    "                self.dfs(p)\n",
    "\n",
    "def alternative_method(V, E):\n",
    "    return my_no_connected_components(build_graph(V,E)).find()\n",
    "\n",
    "# graph visulized previously\n",
    "V = [1, 2, 3, 4, 5]\n",
    "E = [(1, 2), (3, 4), (1, 5)]\n",
    "print(build_graph(V, E))\n",
    "print(f\"no. of connected components: {alternative_method(V,E)}\")"
   ]
  },
  {
   "cell_type": "markdown",
   "id": "53e8eba1-5620-4f5c-bd11-ae33b2bbdb84",
   "metadata": {
    "id": "53e8eba1-5620-4f5c-bd11-ae33b2bbdb84"
   },
   "source": [
    "Read graphs from files and solving them using both the default method and the alternative method, computing the cpu seconds, and writing that comparison data to files"
   ]
  },
  {
   "cell_type": "code",
   "execution_count": 14,
   "id": "545ba031-46a2-42b3-ba95-ddde2a156439",
   "metadata": {
    "colab": {
     "base_uri": "https://localhost:8080/"
    },
    "id": "545ba031-46a2-42b3-ba95-ddde2a156439",
    "outputId": "a78d69b1-7cd5-4ec0-a20d-48eaa62e8abe"
   },
   "outputs": [],
   "source": [
    "#for n in [1000, 10000, 100000]:\n",
    "#  with open(f\"results_{n}.txt\", \"w\") as f:\n",
    "#    f.write(f\"{'method':>12} {'nV':>8} {'nE':>9} {'ncc':>9} {'cpu_seconds':>10}\\n\")\n",
    "#    for k in [1, 2, 5, 10]:\n",
    "#        for r in range(1,11):\n",
    "#            # read graph from file\n",
    "#            graph_filename = f\"graphs/G{n}-{k}-{r}.graph\"\n",
    "#            #graph_filename = '/content/drive/My Drive/' + f\"graphs/G{n}-{k}-{r}.graph\"\n",
    "#            V, E = read_instance(graph_filename)\n",
    "#\n",
    "#            # defult method\n",
    "#            start = time.process_time()\n",
    "#            ncomponents_default = default_method(V,E)\n",
    "#            end = time.process_time()\n",
    "#            cpu_default = end - start\n",
    "#            print(f\"{graph_filename}: {ncomponents_default} components, {cpu_default} seconds\")\n",
    "#            f.write(f\"{'default':>12} {len(V):>8} {len(E):>9} {ncomponents_default:>9} {cpu_default:>10}\\n\")\n",
    "#            # alternative method\n",
    "#            start = time.process_time()\n",
    "#            ncomponents_alternative = alternative_method(V,E)\n",
    "#            end = time.process_time()\n",
    "#            cpu_alternative = end - start\n",
    "#            print(f\"{graph_filename}: {ncomponents_alternative} components, {cpu_alternative} seconds\")\n",
    "#            f.write(f\"{'alternative':>12} {len(V):>8} {len(E):>9} {ncomponents_alternative:>9} {cpu_alternative:>10}\\n\")\n",
    "#\n",
    "#            if ncomponents_default != ncomponents_alternative:\n",
    "#                print(\"Error\")\n",
    "#                exit(-1)\n",
    "#\n",
    "#"
   ]
  },
  {
   "cell_type": "markdown",
   "id": "m7GQj9HqYD1Q",
   "metadata": {
    "id": "m7GQj9HqYD1Q"
   },
   "source": [
    "Analyse the data"
   ]
  },
  {
   "cell_type": "code",
   "execution_count": 15,
   "id": "PBj5w8_MVXqN",
   "metadata": {
    "executionInfo": {
     "elapsed": 264,
     "status": "ok",
     "timestamp": 1695578775239,
     "user": {
      "displayName": "Leonardo Lobato Dias Leite Hügens",
      "userId": "11861312817274715395"
     },
     "user_tz": -60
    },
    "id": "PBj5w8_MVXqN"
   },
   "outputs": [],
   "source": [
    "#data = numpy.loadtxt('results_100.txt', skiprows=1, usecols=[i for i in range(5) if i not in [0]])\n",
    "#data = data.transpose()\n",
    "#data_default = data[:, ::2]\n",
    "#data_alternative = data[:, 1::2]\n",
    "#ncc_default = data_default[2]\n",
    "#ncc_alternative = data_alternative[2]\n",
    "#cpu_default = data_default[3]\n",
    "#cpu_alternative = data_alternative[3]"
   ]
  },
  {
   "cell_type": "code",
   "execution_count": 16,
   "id": "MeYX3BnzYfwM",
   "metadata": {
    "colab": {
     "base_uri": "https://localhost:8080/",
     "height": 472
    },
    "executionInfo": {
     "elapsed": 803,
     "status": "ok",
     "timestamp": 1695579308017,
     "user": {
      "displayName": "Leonardo Lobato Dias Leite Hügens",
      "userId": "11861312817274715395"
     },
     "user_tz": -60
    },
    "id": "MeYX3BnzYfwM",
    "outputId": "0f7f7896-21a1-4d46-82af-53a7fced578f"
   },
   "outputs": [],
   "source": [
    "#plt.title(\"#V = 100\")\n",
    "#plt.xlabel('#connected components')\n",
    "#plt.ylabel('cpu seconds')\n",
    "#plt.plot(ncc_default, cpu_default, '.')\n",
    "#plt.plot(ncc_alternative, cpu_alternative, '.')\n",
    "#plt.savefig('nV_100.png')"
   ]
  },
  {
   "cell_type": "markdown",
   "id": "c70bc9a3-f5a5-4073-a504-78f85d32ec1f",
   "metadata": {},
   "source": [
    "Algorithm implimentation in C"
   ]
  },
  {
   "cell_type": "code",
   "execution_count": 17,
   "id": "9U_Bwdk1au6Z",
   "metadata": {
    "id": "9U_Bwdk1au6Z"
   },
   "outputs": [
    {
     "name": "stdout",
     "output_type": "stream",
     "text": [
      "[1, 2, 3, 4, 5]\n"
     ]
    },
    {
     "data": {
      "text/plain": [
       "2"
      ]
     },
     "execution_count": 17,
     "metadata": {},
     "output_type": "execute_result"
    }
   ],
   "source": [
    "V = [1, 2, 3, 4, 5]\n",
    "E = [(1, 2), (3, 4), (1, 5)]\n",
    "print(V)\n",
    "\n",
    "so_file = \"/home/hugens/cc/taia/my_functions.so\"\n",
    "my_functions = ctypes.CDLL(so_file)\n",
    "\n",
    "# convert python list to a c list\n",
    "V_c = (ctypes.c_int * len(V))(*V)\n",
    "# convert python tuple list to a c tuple list\n",
    "class CTuple(ctypes.Structure):\n",
    "    _fields_ = [(\"first\", ctypes.c_int),\n",
    "                (\"second\", ctypes.c_int)]\n",
    "\n",
    "E_c = (CTuple * len(E))()\n",
    "\n",
    "for i, (first, second) in enumerate(E):\n",
    "    E_c[i].first = first\n",
    "    E_c[i].second = second\n",
    "\n",
    "# call the alternative method implemented in C\n",
    "my_functions.my_no_connected_components(V_c, len(V), E_c, len(E))"
   ]
  },
  {
   "cell_type": "code",
   "execution_count": 18,
   "id": "4648e041-b927-454b-9fd5-0fe7243e7bd9",
   "metadata": {},
   "outputs": [],
   "source": [
    "import ctypes\n",
    "so_file = \"/home/hugens/cc/taia/my_functions.so\"\n",
    "my_functions = ctypes.CDLL(so_file)\n",
    "class CTuple(ctypes.Structure):\n",
    "        _fields_ = [(\"first\", ctypes.c_int),\n",
    "                    (\"second\", ctypes.c_int)]\n",
    "    \n",
    "def alternative_method_c(V, E):\n",
    "    # convert list and tuple list to c versions\n",
    "    V_c = (ctypes.c_int * len(V))(*V)\n",
    "    E_c = (CTuple * len(E))(*E)\n",
    "    for i, (first, second) in enumerate(E):\n",
    "        E_c[i].first = first\n",
    "        E_c[i].second = second\n",
    "\n",
    "    return my_functions.my_no_connected_components(V_c, len(V), E_c, len(E))"
   ]
  },
  {
   "cell_type": "code",
   "execution_count": null,
   "id": "55c769f7-a046-4b19-851e-2f9c3ab818b8",
   "metadata": {},
   "outputs": [
    {
     "name": "stdout",
     "output_type": "stream",
     "text": [
      "graphs/G100-1-1.graph: 13 components, 0.0003807220000000555 seconds\n",
      "graphs/G100-1-1.graph: 13 components, 0.0002540689999999124 seconds\n",
      "graphs/G100-1-2.graph: 14 components, 0.00023524800000007673 seconds\n",
      "graphs/G100-1-2.graph: 14 components, 0.00015651299999985824 seconds\n",
      "graphs/G100-1-3.graph: 20 components, 0.0001909019999999373 seconds\n",
      "graphs/G100-1-3.graph: 20 components, 0.0002223099999998368 seconds\n",
      "graphs/G100-1-4.graph: 18 components, 0.00020108700000021074 seconds\n",
      "graphs/G100-1-4.graph: 18 components, 0.0001533619999998237 seconds\n",
      "graphs/G100-1-5.graph: 18 components, 0.00030864600000013453 seconds\n",
      "graphs/G100-1-5.graph: 18 components, 0.0002331710000000875 seconds\n",
      "graphs/G100-1-6.graph: 18 components, 0.00019326299999988805 seconds\n",
      "graphs/G100-1-6.graph: 18 components, 0.0001621300000000936 seconds\n",
      "graphs/G100-1-7.graph: 17 components, 0.00019321400000027467 seconds\n",
      "graphs/G100-1-7.graph: 17 components, 0.00015201099999995193 seconds\n",
      "graphs/G100-1-8.graph: 19 components, 0.00019344400000020912 seconds\n",
      "graphs/G100-1-8.graph: 19 components, 0.0001345189999999441 seconds\n",
      "graphs/G100-1-9.graph: 18 components, 0.0001965699999999515 seconds\n",
      "graphs/G100-1-9.graph: 18 components, 0.00012977899999988551 seconds\n",
      "graphs/G100-1-10.graph: 24 components, 0.00018297600000005687 seconds\n",
      "graphs/G100-1-10.graph: 24 components, 0.00012781300000019868 seconds\n",
      "graphs/G100-2-1.graph: 3 components, 0.0002398910000001031 seconds\n",
      "graphs/G100-2-1.graph: 3 components, 0.000262266000000011 seconds\n",
      "graphs/G100-2-2.graph: 1 components, 0.0002628440000003174 seconds\n",
      "graphs/G100-2-2.graph: 1 components, 0.0002691489999997465 seconds\n",
      "graphs/G100-2-3.graph: 3 components, 0.0003327149999998724 seconds\n",
      "graphs/G100-2-3.graph: 3 components, 0.0004719980000000845 seconds\n",
      "graphs/G100-2-4.graph: 2 components, 0.0004767800000000655 seconds\n",
      "graphs/G100-2-4.graph: 2 components, 0.0004309770000001656 seconds\n",
      "graphs/G100-2-5.graph: 3 components, 0.00046154900000017207 seconds\n",
      "graphs/G100-2-5.graph: 3 components, 0.0004339899999998842 seconds\n",
      "graphs/G100-2-6.graph: 3 components, 0.0003257519999997349 seconds\n",
      "graphs/G100-2-6.graph: 3 components, 0.00027224400000003257 seconds\n",
      "graphs/G100-2-7.graph: 3 components, 0.00024418700000028437 seconds\n",
      "graphs/G100-2-7.graph: 3 components, 0.00025883500000034587 seconds\n",
      "graphs/G100-2-8.graph: 5 components, 0.000244619000000057 seconds\n",
      "graphs/G100-2-8.graph: 5 components, 0.0002547559999999116 seconds\n",
      "graphs/G100-2-9.graph: 1 components, 0.00023588799999973986 seconds\n",
      "graphs/G100-2-9.graph: 1 components, 0.0002306249999999288 seconds\n",
      "graphs/G100-2-10.graph: 4 components, 0.00023536000000001778 seconds\n",
      "graphs/G100-2-10.graph: 4 components, 0.00023003700000012728 seconds\n",
      "graphs/G100-5-1.graph: 1 components, 0.0004919679999999538 seconds\n",
      "graphs/G100-5-1.graph: 1 components, 0.0005676169999997427 seconds\n",
      "graphs/G100-5-2.graph: 1 components, 0.00042537000000031355 seconds\n",
      "graphs/G100-5-2.graph: 1 components, 0.0005541819999996811 seconds\n",
      "graphs/G100-5-3.graph: 1 components, 0.00045096400000010917 seconds\n",
      "graphs/G100-5-3.graph: 1 components, 0.0005619379999997065 seconds\n",
      "graphs/G100-5-4.graph: 1 components, 0.0004016669999997724 seconds\n",
      "graphs/G100-5-4.graph: 1 components, 0.0005377730000000192 seconds\n",
      "graphs/G100-5-5.graph: 1 components, 0.0004360430000001081 seconds\n",
      "graphs/G100-5-5.graph: 1 components, 0.0005381899999998829 seconds\n",
      "graphs/G100-5-6.graph: 1 components, 0.000404748999999871 seconds\n",
      "graphs/G100-5-6.graph: 1 components, 0.0005333059999999001 seconds\n",
      "graphs/G100-5-7.graph: 1 components, 0.0005036820000001718 seconds\n",
      "graphs/G100-5-7.graph: 1 components, 0.0005731199999998715 seconds\n",
      "graphs/G100-5-8.graph: 1 components, 0.0003979680000001373 seconds\n",
      "graphs/G100-5-8.graph: 1 components, 0.0005222940000000342 seconds\n",
      "graphs/G100-5-9.graph: 1 components, 0.00042090799999972006 seconds\n",
      "graphs/G100-5-9.graph: 1 components, 0.0004990079999998009 seconds\n",
      "graphs/G100-5-10.graph: 1 components, 0.00035074300000026426 seconds\n",
      "graphs/G100-5-10.graph: 1 components, 0.0004705979999997112 seconds\n",
      "graphs/G100-10-1.graph: 1 components, 0.0006350790000002604 seconds\n",
      "graphs/G100-10-1.graph: 1 components, 0.0008947140000001852 seconds\n",
      "graphs/G100-10-2.graph: 1 components, 0.0006345660000000031 seconds\n",
      "graphs/G100-10-2.graph: 1 components, 0.0008825180000000543 seconds\n",
      "graphs/G100-10-3.graph: 1 components, 0.0006353270000003519 seconds\n",
      "graphs/G100-10-3.graph: 1 components, 0.000901513000000076 seconds\n",
      "graphs/G100-10-4.graph: 1 components, 0.0006403709999998064 seconds\n",
      "graphs/G100-10-4.graph: 1 components, 0.0009340899999998875 seconds\n",
      "graphs/G100-10-5.graph: 1 components, 0.0006337200000001708 seconds\n",
      "graphs/G100-10-5.graph: 1 components, 0.0008841840000002321 seconds\n",
      "graphs/G100-10-6.graph: 1 components, 0.0006215430000002797 seconds\n",
      "graphs/G100-10-6.graph: 1 components, 0.0008716259999999032 seconds\n",
      "graphs/G100-10-7.graph: 1 components, 0.0006197659999997995 seconds\n",
      "graphs/G100-10-7.graph: 1 components, 0.0008664149999999537 seconds\n",
      "graphs/G100-10-8.graph: 1 components, 0.000629396999999976 seconds\n",
      "graphs/G100-10-8.graph: 1 components, 0.0008846000000000132 seconds\n",
      "graphs/G100-10-9.graph: 1 components, 0.0006243900000000302 seconds\n",
      "graphs/G100-10-9.graph: 1 components, 0.0008554339999999883 seconds\n",
      "graphs/G100-10-10.graph: 1 components, 0.0006268000000000384 seconds\n",
      "graphs/G100-10-10.graph: 1 components, 0.0008916029999999076 seconds\n",
      "graphs/G1000-1-1.graph: 147 components, 0.0016684649999998413 seconds\n",
      "graphs/G1000-1-1.graph: 147 components, 0.003108720000000176 seconds\n",
      "graphs/G1000-1-2.graph: 180 components, 0.001650917000000085 seconds\n",
      "graphs/G1000-1-2.graph: 180 components, 0.0030216899999997437 seconds\n",
      "graphs/G1000-1-3.graph: 171 components, 0.0015951130000000369 seconds\n",
      "graphs/G1000-1-3.graph: 171 components, 0.003028052999999975 seconds\n",
      "graphs/G1000-1-4.graph: 158 components, 0.001609230000000128 seconds\n",
      "graphs/G1000-1-4.graph: 158 components, 0.0030056539999998577 seconds\n",
      "graphs/G1000-1-5.graph: 168 components, 0.0015903500000002957 seconds\n",
      "graphs/G1000-1-5.graph: 168 components, 0.002939355000000088 seconds\n",
      "graphs/G1000-1-6.graph: 164 components, 0.001521918000000344 seconds\n",
      "graphs/G1000-1-6.graph: 164 components, 0.002953733000000014 seconds\n",
      "graphs/G1000-1-7.graph: 179 components, 0.0015773509999998936 seconds\n",
      "graphs/G1000-1-7.graph: 179 components, 0.002943702000000048 seconds\n",
      "graphs/G1000-1-8.graph: 179 components, 0.0015348310000002918 seconds\n",
      "graphs/G1000-1-8.graph: 179 components, 0.0029210100000001127 seconds\n",
      "graphs/G1000-1-9.graph: 170 components, 0.0015146929999998449 seconds\n",
      "graphs/G1000-1-9.graph: 170 components, 0.0029674070000003105 seconds\n",
      "graphs/G1000-1-10.graph: 169 components, 0.0015483020000002234 seconds\n",
      "graphs/G1000-1-10.graph: 169 components, 0.0029177519999996626 seconds\n",
      "graphs/G1000-2-1.graph: 14 components, 0.0021151680000000006 seconds\n",
      "graphs/G1000-2-1.graph: 14 components, 0.00581840499999986 seconds\n",
      "graphs/G1000-2-2.graph: 21 components, 0.0021156000000002173 seconds\n",
      "graphs/G1000-2-2.graph: 21 components, 0.005775288000000156 seconds\n",
      "graphs/G1000-2-3.graph: 19 components, 0.0021681130000001936 seconds\n",
      "graphs/G1000-2-3.graph: 19 components, 0.00582621399999983 seconds\n",
      "graphs/G1000-2-4.graph: 19 components, 0.00217521800000009 seconds\n",
      "graphs/G1000-2-4.graph: 19 components, 0.005967147000000228 seconds\n",
      "graphs/G1000-2-5.graph: 15 components, 0.0021796919999999 seconds\n",
      "graphs/G1000-2-5.graph: 15 components, 0.005904660000000117 seconds\n",
      "graphs/G1000-2-6.graph: 25 components, 0.0021289669999999816 seconds\n",
      "graphs/G1000-2-6.graph: 25 components, 0.005795863000000345 seconds\n",
      "graphs/G1000-2-7.graph: 21 components, 0.0022748670000001248 seconds\n",
      "graphs/G1000-2-7.graph: 21 components, 0.006791486000000013 seconds\n",
      "graphs/G1000-2-8.graph: 27 components, 0.002306347999999847 seconds\n",
      "graphs/G1000-2-8.graph: 27 components, 0.005793928000000115 seconds\n",
      "graphs/G1000-2-9.graph: 26 components, 0.0026182370000000788 seconds\n",
      "graphs/G1000-2-9.graph: 26 components, 0.005837131000000273 seconds\n",
      "graphs/G1000-2-10.graph: 22 components, 0.002219242999999871 seconds\n",
      "graphs/G1000-2-10.graph: 22 components, 0.006768139000000062 seconds\n",
      "graphs/G1000-5-1.graph: 1 components, 0.004386267999999749 seconds\n",
      "graphs/G1000-5-1.graph: 1 components, 0.014535625999999802 seconds\n",
      "graphs/G1000-5-2.graph: 1 components, 0.004384705999999738 seconds\n",
      "graphs/G1000-5-2.graph: 1 components, 0.014290034000000063 seconds\n",
      "graphs/G1000-5-3.graph: 1 components, 0.004103145000000197 seconds\n",
      "graphs/G1000-5-3.graph: 1 components, 0.01473445399999962 seconds\n",
      "graphs/G1000-5-4.graph: 1 components, 0.004184168000000099 seconds\n",
      "graphs/G1000-5-4.graph: 1 components, 0.01494952000000005 seconds\n",
      "graphs/G1000-5-5.graph: 1 components, 0.004347874000000029 seconds\n",
      "graphs/G1000-5-5.graph: 1 components, 0.014620150999999915 seconds\n",
      "graphs/G1000-5-6.graph: 1 components, 0.004175497999999944 seconds\n",
      "graphs/G1000-5-6.graph: 1 components, 0.01451948000000014 seconds\n",
      "graphs/G1000-5-7.graph: 1 components, 0.0043672180000000616 seconds\n",
      "graphs/G1000-5-7.graph: 1 components, 0.014467530000000117 seconds\n",
      "graphs/G1000-5-8.graph: 2 components, 0.004417206999999923 seconds\n",
      "graphs/G1000-5-8.graph: 2 components, 0.014476102999999796 seconds\n",
      "graphs/G1000-5-9.graph: 1 components, 0.004175194999999743 seconds\n",
      "graphs/G1000-5-9.graph: 1 components, 0.015611121000000061 seconds\n",
      "graphs/G1000-5-10.graph: 1 components, 0.0042553810000001135 seconds\n",
      "graphs/G1000-5-10.graph: 1 components, 0.014372088000000005 seconds\n",
      "graphs/G1000-10-1.graph: 1 components, 0.007554161000000281 seconds\n",
      "graphs/G1000-10-1.graph: 1 components, 0.02976863399999985 seconds\n",
      "graphs/G1000-10-2.graph: 1 components, 0.007867174999999893 seconds\n",
      "graphs/G1000-10-2.graph: 1 components, 0.02910982800000017 seconds\n",
      "graphs/G1000-10-3.graph: 1 components, 0.007725000000000204 seconds\n",
      "graphs/G1000-10-3.graph: 1 components, 0.02950409899999995 seconds\n",
      "graphs/G1000-10-4.graph: 1 components, 0.0077074520000000035 seconds\n",
      "graphs/G1000-10-4.graph: 1 components, 0.02996274000000021 seconds\n",
      "graphs/G1000-10-5.graph: 1 components, 0.00840664499999999 seconds\n",
      "graphs/G1000-10-5.graph: 1 components, 0.02912031199999987 seconds\n",
      "graphs/G1000-10-6.graph: 1 components, 0.00754829800000012 seconds\n",
      "graphs/G1000-10-6.graph: 1 components, 0.02917538300000011 seconds\n",
      "graphs/G1000-10-7.graph: 1 components, 0.007445857 seconds\n",
      "graphs/G1000-10-7.graph: 1 components, 0.02852838499999999 seconds\n",
      "graphs/G1000-10-8.graph: 1 components, 0.0074890739999999845 seconds\n",
      "graphs/G1000-10-8.graph: 1 components, 0.03018041699999996 seconds\n",
      "graphs/G1000-10-9.graph: 1 components, 0.008254410000000156 seconds\n",
      "graphs/G1000-10-9.graph: 1 components, 0.030750140999999953 seconds\n",
      "graphs/G1000-10-10.graph: 1 components, 0.008442209000000034 seconds\n",
      "graphs/G1000-10-10.graph: 1 components, 0.02963969199999994 seconds\n",
      "graphs/G10000-1-1.graph: 1574 components, 0.0227069649999998 seconds\n",
      "graphs/G10000-1-1.graph: 1574 components, 0.22992323300000006 seconds\n",
      "graphs/G10000-1-2.graph: 1605 components, 0.07051569299999993 seconds\n",
      "graphs/G10000-1-2.graph: 1605 components, 0.23534685799999977 seconds\n",
      "graphs/G10000-1-3.graph: 1577 components, 0.01847534700000031 seconds\n",
      "graphs/G10000-1-3.graph: 1577 components, 0.23120917600000013 seconds\n",
      "graphs/G10000-1-4.graph: 1601 components, 0.018850694000000168 seconds\n",
      "graphs/G10000-1-4.graph: 1601 components, 0.22834253999999987 seconds\n",
      "graphs/G10000-1-5.graph: 1646 components, 0.02639121799999966 seconds\n",
      "graphs/G10000-1-5.graph: 1646 components, 0.229044064 seconds\n",
      "graphs/G10000-1-6.graph: 1604 components, 0.02020288100000034 seconds\n",
      "graphs/G10000-1-6.graph: 1604 components, 0.2265371639999998 seconds\n",
      "graphs/G10000-1-7.graph: 1605 components, 0.06347916799999975 seconds\n",
      "graphs/G10000-1-7.graph: 1605 components, 0.23892474200000002 seconds\n",
      "graphs/G10000-1-8.graph: 1639 components, 0.01812600299999989 seconds\n",
      "graphs/G10000-1-8.graph: 1639 components, 0.22457445399999987 seconds\n",
      "graphs/G10000-1-9.graph: 1631 components, 0.0183509389999994 seconds\n",
      "graphs/G10000-1-9.graph: 1631 components, 0.22372586799999983 seconds\n",
      "graphs/G10000-1-10.graph: 1630 components, 0.017518073999999828 seconds\n",
      "graphs/G10000-1-10.graph: 1630 components, 0.2240780899999999 seconds\n",
      "graphs/G10000-2-1.graph: 193 components, 0.02604588499999938 seconds\n",
      "graphs/G10000-2-1.graph: 193 components, 0.44450255099999936 seconds\n",
      "graphs/G10000-2-2.graph: 203 components, 0.07297072800000048 seconds\n",
      "graphs/G10000-2-2.graph: 203 components, 0.4490649470000001 seconds\n",
      "graphs/G10000-2-3.graph: 187 components, 0.028492587999999763 seconds\n",
      "graphs/G10000-2-3.graph: 187 components, 0.4538296629999996 seconds\n",
      "graphs/G10000-2-4.graph: 200 components, 0.02713562100000022 seconds\n",
      "graphs/G10000-2-4.graph: 200 components, 0.4482026060000006 seconds\n",
      "graphs/G10000-2-5.graph: 207 components, 0.026615888000000254 seconds\n",
      "graphs/G10000-2-5.graph: 207 components, 0.44296161599999984 seconds\n",
      "graphs/G10000-2-6.graph: 187 components, 0.0775835709999999 seconds\n",
      "graphs/G10000-2-6.graph: 187 components, 0.44796478800000017 seconds\n",
      "graphs/G10000-2-7.graph: 175 components, 0.026401983000001294 seconds\n",
      "graphs/G10000-2-7.graph: 175 components, 0.4458792900000006 seconds\n",
      "graphs/G10000-2-8.graph: 191 components, 0.02612434500000127 seconds\n",
      "graphs/G10000-2-8.graph: 191 components, 0.4522398049999996 seconds\n",
      "graphs/G10000-2-9.graph: 200 components, 0.026763780000001347 seconds\n",
      "graphs/G10000-2-9.graph: 200 components, 0.45455645300000036 seconds\n",
      "graphs/G10000-2-10.graph: 217 components, 0.07648744799999996 seconds\n",
      "graphs/G10000-2-10.graph: 217 components, 0.44461319899999907 seconds\n",
      "graphs/G10000-5-1.graph: 3 components, 0.0549344069999993 seconds\n",
      "graphs/G10000-5-1.graph: 3 components, 1.0909047639999994 seconds\n",
      "graphs/G10000-5-2.graph: 1 components, 0.05671742399999857 seconds\n",
      "graphs/G10000-5-2.graph: 1 components, 1.0968229740000002 seconds\n",
      "graphs/G10000-5-3.graph: 2 components, 0.05419779900000066 seconds\n",
      "graphs/G10000-5-3.graph: 2 components, 1.093989045999999 seconds\n",
      "graphs/G10000-5-4.graph: 1 components, 0.11298942999999895 seconds\n",
      "graphs/G10000-5-4.graph: 1 components, 1.1062785389999998 seconds\n",
      "graphs/G10000-5-5.graph: 1 components, 0.05625679199999922 seconds\n",
      "graphs/G10000-5-5.graph: 1 components, 1.095887071 seconds\n",
      "graphs/G10000-5-6.graph: 1 components, 0.056135224000001926 seconds\n",
      "graphs/G10000-5-6.graph: 1 components, 1.102697941999999 seconds\n",
      "graphs/G10000-5-7.graph: 1 components, 0.11378206799999901 seconds\n",
      "graphs/G10000-5-7.graph: 1 components, 1.125752674000001 seconds\n",
      "graphs/G10000-5-8.graph: 2 components, 0.057077886000001854 seconds\n",
      "graphs/G10000-5-8.graph: 2 components, 1.1153252500000015 seconds\n",
      "graphs/G10000-5-9.graph: 1 components, 0.05656181899999879 seconds\n",
      "graphs/G10000-5-9.graph: 1 components, 1.1081887080000001 seconds\n",
      "graphs/G10000-5-10.graph: 1 components, 0.057421749000003075 seconds\n",
      "graphs/G10000-5-10.graph: 1 components, 1.1196393270000016 seconds\n",
      "graphs/G10000-10-1.graph: 1 components, 0.1858073109999978 seconds\n",
      "graphs/G10000-10-1.graph: 1 components, 2.2316418260000006 seconds\n",
      "graphs/G10000-10-2.graph: 1 components, 0.11874493499999872 seconds\n",
      "graphs/G10000-10-2.graph: 1 components, 2.22758975 seconds\n",
      "graphs/G10000-10-3.graph: 1 components, 0.10643289500000108 seconds\n",
      "graphs/G10000-10-3.graph: 1 components, 2.2230721739999986 seconds\n",
      "graphs/G10000-10-4.graph: 1 components, 0.11862489299999979 seconds\n",
      "graphs/G10000-10-4.graph: 1 components, 2.230274823000002 seconds\n",
      "graphs/G10000-10-5.graph: 1 components, 0.17023366300000475 seconds\n",
      "graphs/G10000-10-5.graph: 1 components, 2.2320033399999986 seconds\n",
      "graphs/G10000-10-6.graph: 1 components, 0.12185136600000135 seconds\n",
      "graphs/G10000-10-6.graph: 1 components, 2.23352371 seconds\n",
      "graphs/G10000-10-7.graph: 1 components, 0.10702646499999702 seconds\n",
      "graphs/G10000-10-7.graph: 1 components, 2.2286599870000003 seconds\n",
      "graphs/G10000-10-8.graph: 1 components, 0.19927518500000474 seconds\n",
      "graphs/G10000-10-8.graph: 1 components, 2.233964488000005 seconds\n",
      "graphs/G10000-10-9.graph: 1 components, 0.10688406799999939 seconds\n",
      "graphs/G10000-10-9.graph: 1 components, 2.227227055 seconds\n",
      "graphs/G10000-10-10.graph: 1 components, 0.1124952150000027 seconds\n",
      "graphs/G10000-10-10.graph: 1 components, 2.2358696659999993 seconds\n",
      "graphs/G100000-1-1.graph: 16153 components, 0.6250715449999973 seconds\n",
      "graphs/G100000-1-1.graph: 16153 components, 21.406104802999998 seconds\n",
      "graphs/G100000-1-2.graph: 16162 components, 0.5135277729999927 seconds\n",
      "graphs/G100000-1-2.graph: 16162 components, 21.429708547999994 seconds\n",
      "graphs/G100000-1-3.graph: 16128 components, 0.6433868860000018 seconds\n",
      "graphs/G100000-1-3.graph: 16128 components, 21.392769490000006 seconds\n",
      "graphs/G100000-1-4.graph: 16122 components, 0.5091861279999961 seconds\n",
      "graphs/G100000-1-4.graph: 16122 components, 21.664041558000008 seconds\n",
      "graphs/G100000-1-5.graph: 16207 components, 0.6268895000000043 seconds\n",
      "graphs/G100000-1-5.graph: 16207 components, 22.080918556 seconds\n",
      "graphs/G100000-1-6.graph: 16071 components, 0.49970015000002377 seconds\n",
      "graphs/G100000-1-6.graph: 16071 components, 21.977149188 seconds\n",
      "graphs/G100000-1-7.graph: 16196 components, 0.49652380099999505 seconds\n",
      "graphs/G100000-1-7.graph: 16196 components, 25.264311281999994 seconds\n",
      "graphs/G100000-1-8.graph: 16260 components, 0.48266053899999406 seconds\n",
      "graphs/G100000-1-8.graph: 16260 components, 25.013678806 seconds\n",
      "graphs/G100000-1-9.graph: 16226 components, 0.4862804830000016 seconds\n",
      "graphs/G100000-1-9.graph: 16226 components, 24.96575208400003 seconds\n",
      "graphs/G100000-1-10.graph: 16249 components, 0.47728742600003216 seconds\n",
      "graphs/G100000-1-10.graph: 16249 components, 23.783134448999988 seconds\n",
      "graphs/G100000-2-1.graph: 1979 components, 0.8508166390000156 seconds\n",
      "graphs/G100000-2-1.graph: 1979 components, 43.978312329000005 seconds\n",
      "graphs/G100000-2-2.graph: 1895 components, 0.7421240860000466 seconds\n",
      "graphs/G100000-2-2.graph: 1895 components, 51.64814847299999 seconds\n",
      "graphs/G100000-2-3.graph: 1869 components, 0.8729438640000353 seconds\n",
      "graphs/G100000-2-3.graph: 1869 components, 52.96168192800002 seconds\n",
      "graphs/G100000-2-4.graph: 1868 components, 0.9397496099999785 seconds\n",
      "graphs/G100000-2-4.graph: 1868 components, 52.430141238999965 seconds\n",
      "graphs/G100000-2-5.graph: 1958 components, 0.860410786999978 seconds\n",
      "graphs/G100000-2-5.graph: 1958 components, 47.16996330999996 seconds\n",
      "graphs/G100000-2-6.graph: 1956 components, 0.7427185450000025 seconds\n",
      "graphs/G100000-2-6.graph: 1956 components, 46.58378050300007 seconds\n",
      "graphs/G100000-2-7.graph: 1909 components, 0.8765959429999839 seconds\n",
      "graphs/G100000-2-7.graph: 1909 components, 50.60242015099993 seconds\n",
      "graphs/G100000-2-8.graph: 1970 components, 0.8604747939999697 seconds\n",
      "graphs/G100000-2-8.graph: 1970 components, 50.359036343999946 seconds\n",
      "graphs/G100000-2-9.graph: 1954 components, 0.7656019669999523 seconds\n",
      "graphs/G100000-2-9.graph: 1954 components, 50.722950978000085 seconds\n",
      "graphs/G100000-2-10.graph: 1896 components, 0.8273930379999683 seconds\n",
      "graphs/G100000-2-10.graph: 1896 components, 50.77229820299999 seconds\n",
      "graphs/G100000-5-1.graph: 5 components, 1.8541533960000152 seconds\n",
      "graphs/G100000-5-1.graph: 5 components, 121.565342687 seconds\n",
      "graphs/G100000-5-2.graph: 3 components, 1.4948512219999657 seconds\n",
      "graphs/G100000-5-2.graph: 3 components, 130.2568073430001 seconds\n",
      "graphs/G100000-5-3.graph: 5 components, 1.769261465999989 seconds\n",
      "graphs/G100000-5-3.graph: 5 components, 125.8691912490001 seconds\n",
      "graphs/G100000-5-4.graph: 6 components, 1.7879551240000637 seconds\n",
      "graphs/G100000-5-4.graph: 6 components, 129.22877423699993 seconds\n",
      "graphs/G100000-5-5.graph: 3 components, 1.731057187000033 seconds\n",
      "graphs/G100000-5-5.graph: 3 components, 133.50700620400016 seconds\n",
      "graphs/G100000-5-6.graph: 6 components, 1.6625739670000712 seconds\n",
      "graphs/G100000-5-6.graph: 6 components, 131.54447131899997 seconds\n",
      "graphs/G100000-5-7.graph: 5 components, 1.7426539230000344 seconds\n",
      "graphs/G100000-5-7.graph: 5 components, 131.3218498660001 seconds\n",
      "graphs/G100000-5-8.graph: 4 components, 1.5338997879998715 seconds\n",
      "graphs/G100000-5-8.graph: 4 components, 132.11696247500004 seconds\n",
      "graphs/G100000-5-9.graph: 7 components, 1.722176311000112 seconds\n",
      "graphs/G100000-5-9.graph: 7 components, 135.56258730399986 seconds\n",
      "graphs/G100000-5-10.graph: 6 components, 1.8673704969999108 seconds\n",
      "graphs/G100000-5-10.graph: 6 components, 137.93842567399975 seconds\n",
      "graphs/G100000-10-1.graph: 1 components, 3.25060772300003 seconds\n",
      "graphs/G100000-10-1.graph: 1 components, 274.1038520850002 seconds\n",
      "graphs/G100000-10-2.graph: 1 components, 3.03424523700005 seconds\n"
     ]
    }
   ],
   "source": [
    "for n in [100, 1000, 10000, 100000, 1000000]:\n",
    "  with open(f\"results_c_{n}.txt\", \"w\") as f:\n",
    "    f.write(f\"{'method':>12} {'nV':>8} {'nE':>9} {'ncc':>9} {'cpu_seconds':>10}\\n\")\n",
    "    for k in [1, 2, 5, 10]:\n",
    "        for r in range(1,11):\n",
    "            # read graph from file\n",
    "            graph_filename = f\"graphs/G{n}-{k}-{r}.graph\"\n",
    "            #graph_filename = '/content/drive/My Drive/' + f\"graphs/G{n}-{k}-{r}.graph\"\n",
    "            V, E = read_instance(graph_filename)\n",
    "\n",
    "            # defult method\n",
    "            start = time.process_time()\n",
    "            ncomponents_default = default_method(V,E)\n",
    "            end = time.process_time()\n",
    "            cpu_default = end - start\n",
    "            print(f\"{graph_filename}: {ncomponents_default} components, {cpu_default} seconds\")\n",
    "            f.write(f\"{'default':>12} {len(V):>8} {len(E):>9} {ncomponents_default:>9} {cpu_default:>10}\\n\")\n",
    "            # alternative method\n",
    "            start = time.process_time()\n",
    "            ncomponents_alternative_c = alternative_method_c(V,E)\n",
    "            end = time.process_time()\n",
    "            cpu_alternative_c = end - start\n",
    "            print(f\"{graph_filename}: {ncomponents_alternative_c} components, {cpu_alternative_c} seconds\")\n",
    "            f.write(f\"{'alternative':>12} {len(V):>8} {len(E):>9} {ncomponents_alternative_c:>9} {cpu_alternative_c:>10}\\n\")\n",
    "\n",
    "            if ncomponents_default != ncomponents_alternative_c:\n",
    "                print(\"Error\")\n",
    "                exit(-1)\n",
    "\n"
   ]
  },
  {
   "cell_type": "code",
   "execution_count": null,
   "id": "01f01c2a-f7be-4c89-b9c2-3274a0f25a6e",
   "metadata": {},
   "outputs": [],
   "source": []
  }
 ],
 "metadata": {
  "colab": {
   "provenance": []
  },
  "kernelspec": {
   "display_name": "Python 3 (ipykernel)",
   "language": "python",
   "name": "python3"
  },
  "language_info": {
   "codemirror_mode": {
    "name": "ipython",
    "version": 3
   },
   "file_extension": ".py",
   "mimetype": "text/x-python",
   "name": "python",
   "nbconvert_exporter": "python",
   "pygments_lexer": "ipython3",
   "version": "3.11.2"
  }
 },
 "nbformat": 4,
 "nbformat_minor": 5
}

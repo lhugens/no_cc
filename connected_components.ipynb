{
 "cells": [
  {
   "cell_type": "code",
   "execution_count": 1,
   "id": "2e7955e2-a56a-4e25-b79d-8c334634f63c",
   "metadata": {},
   "outputs": [],
   "source": [
    "import networkx as nx\n",
    "import random\n",
    "import matplotlib.pyplot as plt"
   ]
  },
  {
   "cell_type": "code",
   "execution_count": 2,
   "id": "460f0340-1d8b-4412-8d9e-4a649ce7cfb9",
   "metadata": {},
   "outputs": [],
   "source": [
    "def build_graph(nodes, edges):\n",
    "    return {i: [j for j in nodes if j!=i and (i, j) in edges or (j, i) in edges] for i in nodes}"
   ]
  },
  {
   "cell_type": "code",
   "execution_count": 3,
   "id": "7186f36f-49c9-4086-81ea-b0e2a97bcde4",
   "metadata": {},
   "outputs": [
    {
     "data": {
      "text/plain": [
       "{1: [2, 5], 2: [1], 3: [4], 4: [3], 5: [1]}"
      ]
     },
     "execution_count": 3,
     "metadata": {},
     "output_type": "execute_result"
    }
   ],
   "source": [
    "nodes = [1, 2, 3, 4, 5]\n",
    "edges = [(1, 2), (3, 4), (1, 5)]\n",
    "build_graph(nodes, edges)"
   ]
  },
  {
   "cell_type": "code",
   "execution_count": 4,
   "id": "c658422e-6ea5-4868-9892-e1d70613cdd5",
   "metadata": {},
   "outputs": [],
   "source": [
    "g = build_graph(nodes, edges)"
   ]
  },
  {
   "cell_type": "code",
   "execution_count": 5,
   "id": "a467c0b0-f6d8-4755-af2d-421696b84c5a",
   "metadata": {},
   "outputs": [
    {
     "data": {
      "text/plain": [
       "([1, 2, 3, 4, 5, 6, 7], [(1, 5), (2, 5), (2, 7), (4, 5), (4, 7)])"
      ]
     },
     "execution_count": 5,
     "metadata": {},
     "output_type": "execute_result"
    }
   ],
   "source": [
    "def generate_random_graph():\n",
    "    n = 7\n",
    "    prob = 0.1\n",
    "    V = list(range(1, n+1))\n",
    "    E = [(i, j) for i in V for j in V if i<j and random.random() < prob]\n",
    "    return V, E\n",
    "\n",
    "generate_random_graph()"
   ]
  },
  {
   "cell_type": "code",
   "execution_count": 6,
   "id": "9d651d6c-73b4-4dba-8791-f111d35b2849",
   "metadata": {},
   "outputs": [],
   "source": [
    "def convert_to_G(E):\n",
    "    G = nx.Graph()\n",
    "    G.add_edges_from(E)\n",
    "    return G"
   ]
  },
  {
   "cell_type": "code",
   "execution_count": 7,
   "id": "ea418e66-3155-42f2-a829-020966dcd332",
   "metadata": {},
   "outputs": [],
   "source": [
    "def plot_graph(G):\n",
    "    nx.draw(G, with_labels=True, node_size=500, node_color='skyblue', font_size=10, font_color='black', font_weight='bold')"
   ]
  },
  {
   "cell_type": "code",
   "execution_count": 17,
   "id": "ecb0e9d6-f6e0-48d5-acae-ee138152a4e6",
   "metadata": {},
   "outputs": [
    {
     "name": "stdout",
     "output_type": "stream",
     "text": [
      "[{1, 6}, {2, 5}, {3, 4, 5}, {3, 4, 6}, {2, 3, 5}, {1, 4, 6}]\n"
     ]
    },
    {
     "data": {
      "text/plain": [
       "[{1, 3, 4, 6},\n",
       " {1, 4, 6},\n",
       " {2, 3, 4, 5},\n",
       " {2, 3, 5},\n",
       " {3, 4, 5, 6},\n",
       " {1, 3, 4, 5, 6},\n",
       " {2, 3, 4, 5, 6}]"
      ]
     },
     "execution_count": 17,
     "metadata": {},
     "output_type": "execute_result"
    }
   ],
   "source": [
    "def in_any_set(k, cc):\n",
    "    for i, _set in enumerate(cc):\n",
    "        if k in _set:\n",
    "            return True\n",
    "    return False\n",
    "\n",
    "def any_elem_in_any_set(l, cc):\n",
    "    for elem in l:\n",
    "        if in_any_set(elem, cc):\n",
    "            return True\n",
    "    return False\n",
    "\n",
    "def which_set(k, cc):\n",
    "    for i, _set in enumerate(cc):\n",
    "        if k in _set:\n",
    "            return i\n",
    "    return None\n",
    "\n",
    "def which_any_elem_in_any_set(l, cc):\n",
    "    for elem in l:\n",
    "        if in_any_set(elem, cc):\n",
    "            return elem\n",
    "    return None\n",
    "\n",
    "def my_connected_components(g):\n",
    "    cc = []\n",
    "    #print(\"g\", g)\n",
    "    g_list = [set([key, *value]) for key, value in g.items() if value != []]\n",
    "    #print(\"g_list\", g_list)\n",
    "    for s1 in g_list:\n",
    "        for s2 in g_list:\n",
    "            if s1 & s2 != set():\n",
    "                union = s1.union(s2)\n",
    "                if any_elem_in_any_set(union, cc):\n",
    "                    index = which_set(which_any_elem_in_any_set(union, cc), cc)\n",
    "                    cc[index] = cc[index].union(union)\n",
    "                else:\n",
    "                    cc.append(union)\n",
    "    for s1 in cc:\n",
    "        for s2 in cc:\n",
    "            if s1 & s2 != set():\n",
    "                #print(\"hey\", s1, s2)\n",
    "                None\n",
    "    return cc\n",
    "\n",
    "def any_intersection(cc):\n",
    "    for s1 in cc:\n",
    "        for s2 in cc:\n",
    "            if s1 != s2:\n",
    "                if s1 & s2 != set():\n",
    "                    return True\n",
    "    return False\n",
    "\n",
    "def my_connected_components(g):\n",
    "    cc = [set([key, *value]) for key, value in g.items() if value != []]\n",
    "    while any_intersection(cc):\n",
    "        cc1 = []\n",
    "        for i, s1 in enumerate(cc):\n",
    "            for s2 in cc:\n",
    "                if s1 != s2 and s1 & s2 != set():\n",
    "                    cc1.append(s1.union(s2))\n",
    "        cc = cc1\n",
    "    return cc\n",
    "\n",
    "def my_connected_components(g):\n",
    "    g_list = [set([key, *value]) for key, value in g.items() if value != []]\n",
    "    print(g_list)\n",
    "    cc = []\n",
    "    for i in range(len(g_list)):\n",
    "        for j in range(len(g_list)):\n",
    "            if i != j:\n",
    "                if any([elem in g_list[i] for elem in g_list[j]]):\n",
    "                    u = g_list[i].union(g_list[j])\n",
    "                    if u not in cc:\n",
    "                        cc.append(u)\n",
    "    return cc\n",
    "    \n",
    "def my_no_connected_components(graph):\n",
    "    return len(my_connected_components(graph))\n",
    "\n",
    "#my_connected_components(g)\n",
    "my_connected_components({1: [6], 2: [5], 3: [4, 5], 4: [3, 6], 5: [2, 3], 6: [1, 4], 7: []})\n",
    "#any_intersection([{1, 3, 4, 5, 6}, {2, 3, 4, 5, 6}])\n",
    "#any_intersection([{1, 2, 3}, {5, 6, 9}])"
   ]
  },
  {
   "cell_type": "code",
   "execution_count": null,
   "id": "54776075-0742-4454-b8d1-31718ae40719",
   "metadata": {},
   "outputs": [],
   "source": []
  },
  {
   "cell_type": "code",
   "execution_count": null,
   "id": "aa074d66-79db-44cb-b24f-7927032aade9",
   "metadata": {},
   "outputs": [],
   "source": []
  },
  {
   "cell_type": "code",
   "execution_count": null,
   "id": "c8aad088-4107-44b4-ad92-b9e326568b57",
   "metadata": {},
   "outputs": [],
   "source": []
  },
  {
   "cell_type": "code",
   "execution_count": null,
   "id": "b0c60bdb-2b6c-4d12-97e8-4c9d8021837b",
   "metadata": {},
   "outputs": [],
   "source": []
  },
  {
   "cell_type": "code",
   "execution_count": null,
   "id": "7b86201b-106e-4777-b53a-1351124de0b1",
   "metadata": {},
   "outputs": [],
   "source": []
  },
  {
   "cell_type": "code",
   "execution_count": 46,
   "id": "1f214b6b-8b24-403e-96e3-52bba727c0d2",
   "metadata": {},
   "outputs": [
    {
     "name": "stdout",
     "output_type": "stream",
     "text": [
      "g_list [{1, 6}, {2, 5}, {3, 4, 5}, {3, 4, 6}, {2, 3, 5}, {1, 4, 6}]\n"
     ]
    },
    {
     "data": {
      "text/plain": [
       "[{1, 2, 3, 4, 5, 6}]"
      ]
     },
     "execution_count": 46,
     "metadata": {},
     "output_type": "execute_result"
    }
   ],
   "source": [
    "def in_any_set(k, cc):\n",
    "    for _set in cc:\n",
    "        if k in _set:\n",
    "            return True\n",
    "    return False\n",
    "\n",
    "def which_set(k, cc):\n",
    "    for i, _set in enumerate(cc):\n",
    "        if k in _set:\n",
    "            return i\n",
    "    return None\n",
    "\n",
    "def my_connected_components(g):\n",
    "    g_list = [set([key, *value]) for key, value in g.items() if value != []]\n",
    "    print(\"g_list\", g_list)\n",
    "    cc = []\n",
    "    acc = set()\n",
    "    for i in range(len(g_list)):\n",
    "        for j in range(len(g_list)):\n",
    "            if i != j:\n",
    "                inter = g_list[i] & g_list[j]\n",
    "                if inter != set():\n",
    "                    acc = acc.union(g_list[i].union(g_list[j])) \n",
    "                    for elem in acc:\n",
    "                        flag = 0\n",
    "                        if in_any_set(elem, cc):\n",
    "                            ws = which_set(elem, cc)\n",
    "                            cc[ws] = cc[ws].union(acc)\n",
    "                            flag = 1\n",
    "                    if flag == 0:\n",
    "                        cc.append(acc)\n",
    "    return cc\n",
    "\n",
    "my_connected_components({1: [6], 2: [5], 3: [4, 5], 4: [3, 6], 5: [2, 3], 6: [1, 4], 7: []})"
   ]
  },
  {
   "cell_type": "code",
   "execution_count": 47,
   "id": "98cd4dbb-8372-410d-8647-f91e1f7ee7f2",
   "metadata": {},
   "outputs": [
    {
     "name": "stdout",
     "output_type": "stream",
     "text": [
      "g_list [{1, 5}, {1, 5}]\n",
      "g_list [{1, 4}, {2, 3}, {2, 3}, {1, 4}]\n",
      "Failure\n",
      "{1: [4], 2: [3], 3: [2], 4: [1], 5: [], 6: [], 7: []}\n",
      "g_list [{1, 4}, {2, 3}, {2, 3}, {1, 4}]\n",
      "nx   [{1, 4}, {2, 3}] \n",
      "mine [{1, 2, 3, 4}]\n"
     ]
    },
    {
     "data": {
      "image/png": "[encoded data removed]",
      "text/plain": [
       "<Figure size 640x480 with 1 Axes>"
      ]
     },
     "metadata": {},
     "output_type": "display_data"
    }
   ],
   "source": [
    "for _ in range(10000):\n",
    "    VERTS, EDGES = generate_random_graph()\n",
    "    g = build_graph(VERTS, EDGES)\n",
    "    G = convert_to_G(EDGES)\n",
    "    #print(\"nx  \", list(nx.connected_components(G)), \"\\nmine\", my_connected_components(g))\n",
    "    if len(list(nx.connected_components(G))) != my_no_connected_components(g):\n",
    "        print(\"Failure\")\n",
    "        print(g)\n",
    "        print(\"nx  \", list(nx.connected_components(G)), \"\\nmine\", my_connected_components(g))\n",
    "        plot_graph(G)\n",
    "        break\n",
    "    #print(g)\n",
    "    #plot_graph(G)\n",
    "    #plt.show()\n"
   ]
  },
  {
   "cell_type": "code",
   "execution_count": 58,
   "id": "0d5430ab-09b8-4e4d-8adc-c4ed5b226a4a",
   "metadata": {},
   "outputs": [
    {
     "name": "stdout",
     "output_type": "stream",
     "text": [
      "g_list [{1, 6}, {2, 5}, {3, 4, 5}, {3, 4, 6}, {2, 3, 5}, {1, 4, 6}]\n"
     ]
    },
    {
     "data": {
      "text/plain": [
       "[1, 2, 3, 4, 5]"
      ]
     },
     "execution_count": 58,
     "metadata": {},
     "output_type": "execute_result"
    }
   ],
   "source": [
    "def my_connected_components(g):\n",
    "    g_list = [set([key, *value]) for key, value in g.items() if value != []]\n",
    "    print(\"g_list\", g_list)\n",
    "\n",
    "    for i, si in enumerate(g_list):\n",
    "        acc = []\n",
    "        for j, sj in range(g_list):\n",
    "            if i != j:\n",
    "                if s1 & s2 != set():\n",
    "                    acc.append(list(s1.union(s2))\n",
    "        for elem in acc()\n",
    "                    \n",
    "\n",
    "        \n",
    "    \n",
    "    return nodes\n",
    "\n",
    "my_connected_components({1: [6], 2: [5], 3: [4, 5], 4: [3, 6], 5: [2, 3], 6: [1, 4], 7: []})"
   ]
  },
  {
   "cell_type": "code",
   "execution_count": 51,
   "id": "27f71291-6593-4380-8be1-e8797fdd9551",
   "metadata": {},
   "outputs": [
    {
     "data": {
      "text/plain": [
       "[1, 2, 3, 4, 5, 6, 7]"
      ]
     },
     "execution_count": 51,
     "metadata": {},
     "output_type": "execute_result"
    }
   ],
   "source": [
    "g = {1: [6], 2: [5], 3: [4, 5], 4: [3, 6], 5: [2, 3], 6: [1, 4], 7: []}\n",
    "list(g.keys())"
   ]
  },
  {
   "cell_type": "code",
   "execution_count": 60,
   "id": "64c0f40d-3388-41d7-b478-bce1289ac26c",
   "metadata": {},
   "outputs": [
    {
     "ename": "TypeError",
     "evalue": "unhashable type: 'set'",
     "output_type": "error",
     "traceback": [
      "\u001b[0;31m---------------------------------------------------------------------------\u001b[0m",
      "\u001b[0;31mTypeError\u001b[0m                                 Traceback (most recent call last)",
      "Cell \u001b[0;32mIn[60], line 2\u001b[0m\n\u001b[1;32m      1\u001b[0m a \u001b[38;5;241m=\u001b[39m {\u001b[38;5;241m1\u001b[39m, \u001b[38;5;241m2\u001b[39m}\n\u001b[0;32m----> 2\u001b[0m \u001b[43ma\u001b[49m\u001b[38;5;241;43m.\u001b[39;49m\u001b[43madd\u001b[49m\u001b[43m(\u001b[49m\u001b[43m{\u001b[49m\u001b[38;5;241;43m3\u001b[39;49m\u001b[43m,\u001b[49m\u001b[43m \u001b[49m\u001b[38;5;241;43m4\u001b[39;49m\u001b[43m}\u001b[49m\u001b[43m)\u001b[49m\n",
      "\u001b[0;31mTypeError\u001b[0m: unhashable type: 'set'"
     ]
    }
   ],
   "source": [
    "a = {1, 2}\n",
    "a.add({3, 4})"
   ]
  },
  {
   "cell_type": "code",
   "execution_count": 62,
   "id": "f918606a-6042-40ef-9442-b1716da3cc5d",
   "metadata": {},
   "outputs": [
    {
     "data": {
      "text/plain": [
       "[1, 2, 3, 4, 5]"
      ]
     },
     "execution_count": 62,
     "metadata": {},
     "output_type": "execute_result"
    }
   ],
   "source": [
    "a = list(set([1, 2, 3, 3, 4, 5]))\n",
    "a"
   ]
  },
  {
   "cell_type": "code",
   "execution_count": 79,
   "id": "e95645bd-cde6-4b96-944d-6d39489a49ea",
   "metadata": {},
   "outputs": [
    {
     "data": {
      "text/plain": [
       "2"
      ]
     },
     "execution_count": 79,
     "metadata": {},
     "output_type": "execute_result"
    }
   ],
   "source": [
    "class my_connected_components:\n",
    "    def __init__(self, g):\n",
    "        self.g = g\n",
    "        self.visited = {}\n",
    "        self.V = g.keys()\n",
    "        self.ncc = 0\n",
    "        for k in self.V:\n",
    "            self.visited[k] = self.visited.get(k, False)\n",
    "\n",
    "    def find(self):\n",
    "        for k in self.V:\n",
    "            if self.visited[k] == False:\n",
    "                self.dfs(k)\n",
    "                self.ncc+=1\n",
    "        return self.ncc\n",
    "\n",
    "    def dfs(self, k):\n",
    "        self.visited[k] = True\n",
    "        for p in self.g[k]:\n",
    "            if self.visited[p] == False:\n",
    "                self.dfs(p)\n",
    "        \n",
    "        \n",
    "mcc = my_connected_components({1: [6], 2: [5], 3: [4, 5], 4: [3, 6], 5: [2, 3], 6: [1, 4], 7: []})\n",
    "mcc.find()"
   ]
  },
  {
   "cell_type": "code",
   "execution_count": 96,
   "id": "9870052f-388b-4bde-8eaa-f91e24787c07",
   "metadata": {},
   "outputs": [
    {
     "name": "stdout",
     "output_type": "stream",
     "text": [
      "2 2\n"
     ]
    }
   ],
   "source": [
    "def generate_random_graph():\n",
    "    n = 1000\n",
    "    prob = 0.1\n",
    "    V = list(range(1, n+1))\n",
    "    E = [(i, j) for i in V for j in V if i<j and random.random() < prob]\n",
    "    return V, E\n",
    "\n",
    "def convert_to_G(V, E):\n",
    "    G = nx.Graph()\n",
    "    G.add_nodes_from(V)\n",
    "    G.add_edges_from(E)\n",
    "    return G\n",
    "\n",
    "def convert_to_g(V, E):\n",
    "    return {i: [j for j in V if j!=i and (i, j) in E or (j, i) in E] for i in V}\n",
    "\n",
    "E = [(1, 6), (2, 5), (3, 4), (3, 5), (4, 3), (4, 6), (5, 2), (5, 3), (6, 1), (6, 4)]\n",
    "V = [1, 2, 3, 4, 5, 6, 7]\n",
    "g = build_graph(V, E)\n",
    "print(my_connected_components(convert_to_g(V, E)).find(), len(list(nx.connected_components(convert_to_G(V, E)))))"
   ]
  },
  {
   "cell_type": "code",
   "execution_count": 97,
   "id": "1a1d4dab-3d8c-4a84-9a5f-05f19e825994",
   "metadata": {},
   "outputs": [
    {
     "ename": "KeyboardInterrupt",
     "evalue": "",
     "output_type": "error",
     "traceback": [
      "\u001b[0;31m---------------------------------------------------------------------------\u001b[0m",
      "\u001b[0;31mKeyboardInterrupt\u001b[0m                         Traceback (most recent call last)",
      "Cell \u001b[0;32mIn[97], line 3\u001b[0m\n\u001b[1;32m      1\u001b[0m \u001b[38;5;28;01mfor\u001b[39;00m _ \u001b[38;5;129;01min\u001b[39;00m \u001b[38;5;28mrange\u001b[39m(\u001b[38;5;241m1000000\u001b[39m):\n\u001b[1;32m      2\u001b[0m     V, E \u001b[38;5;241m=\u001b[39m generate_random_graph()\n\u001b[0;32m----> 3\u001b[0m     g \u001b[38;5;241m=\u001b[39m \u001b[43mconvert_to_g\u001b[49m\u001b[43m(\u001b[49m\u001b[43mV\u001b[49m\u001b[43m,\u001b[49m\u001b[43m \u001b[49m\u001b[43mE\u001b[49m\u001b[43m)\u001b[49m\n\u001b[1;32m      4\u001b[0m     G \u001b[38;5;241m=\u001b[39m convert_to_G(V, E)\n\u001b[1;32m      5\u001b[0m     \u001b[38;5;66;03m#print(\"nx  \", list(nx.connected_components(G)), \"\\nmine\", my_connected_components(g))\u001b[39;00m\n",
      "Cell \u001b[0;32mIn[96], line 15\u001b[0m, in \u001b[0;36mconvert_to_g\u001b[0;34m(V, E)\u001b[0m\n\u001b[1;32m     14\u001b[0m \u001b[38;5;28;01mdef\u001b[39;00m \u001b[38;5;21mconvert_to_g\u001b[39m(V, E):\n\u001b[0;32m---> 15\u001b[0m     \u001b[38;5;28;01mreturn\u001b[39;00m \u001b[43m{\u001b[49m\u001b[43mi\u001b[49m\u001b[43m:\u001b[49m\u001b[43m \u001b[49m\u001b[43m[\u001b[49m\u001b[43mj\u001b[49m\u001b[43m \u001b[49m\u001b[38;5;28;43;01mfor\u001b[39;49;00m\u001b[43m \u001b[49m\u001b[43mj\u001b[49m\u001b[43m \u001b[49m\u001b[38;5;129;43;01min\u001b[39;49;00m\u001b[43m \u001b[49m\u001b[43mV\u001b[49m\u001b[43m \u001b[49m\u001b[38;5;28;43;01mif\u001b[39;49;00m\u001b[43m \u001b[49m\u001b[43mj\u001b[49m\u001b[38;5;241;43m!=\u001b[39;49m\u001b[43mi\u001b[49m\u001b[43m \u001b[49m\u001b[38;5;129;43;01mand\u001b[39;49;00m\u001b[43m \u001b[49m\u001b[43m(\u001b[49m\u001b[43mi\u001b[49m\u001b[43m,\u001b[49m\u001b[43m \u001b[49m\u001b[43mj\u001b[49m\u001b[43m)\u001b[49m\u001b[43m \u001b[49m\u001b[38;5;129;43;01min\u001b[39;49;00m\u001b[43m \u001b[49m\u001b[43mE\u001b[49m\u001b[43m \u001b[49m\u001b[38;5;129;43;01mor\u001b[39;49;00m\u001b[43m \u001b[49m\u001b[43m(\u001b[49m\u001b[43mj\u001b[49m\u001b[43m,\u001b[49m\u001b[43m \u001b[49m\u001b[43mi\u001b[49m\u001b[43m)\u001b[49m\u001b[43m \u001b[49m\u001b[38;5;129;43;01min\u001b[39;49;00m\u001b[43m \u001b[49m\u001b[43mE\u001b[49m\u001b[43m]\u001b[49m\u001b[43m \u001b[49m\u001b[38;5;28;43;01mfor\u001b[39;49;00m\u001b[43m \u001b[49m\u001b[43mi\u001b[49m\u001b[43m \u001b[49m\u001b[38;5;129;43;01min\u001b[39;49;00m\u001b[43m \u001b[49m\u001b[43mV\u001b[49m\u001b[43m}\u001b[49m\n",
      "Cell \u001b[0;32mIn[96], line 15\u001b[0m, in \u001b[0;36m<dictcomp>\u001b[0;34m(.0)\u001b[0m\n\u001b[1;32m     14\u001b[0m \u001b[38;5;28;01mdef\u001b[39;00m \u001b[38;5;21mconvert_to_g\u001b[39m(V, E):\n\u001b[0;32m---> 15\u001b[0m     \u001b[38;5;28;01mreturn\u001b[39;00m {i: \u001b[43m[\u001b[49m\u001b[43mj\u001b[49m\u001b[43m \u001b[49m\u001b[38;5;28;43;01mfor\u001b[39;49;00m\u001b[43m \u001b[49m\u001b[43mj\u001b[49m\u001b[43m \u001b[49m\u001b[38;5;129;43;01min\u001b[39;49;00m\u001b[43m \u001b[49m\u001b[43mV\u001b[49m\u001b[43m \u001b[49m\u001b[38;5;28;43;01mif\u001b[39;49;00m\u001b[43m \u001b[49m\u001b[43mj\u001b[49m\u001b[38;5;241;43m!=\u001b[39;49m\u001b[43mi\u001b[49m\u001b[43m \u001b[49m\u001b[38;5;129;43;01mand\u001b[39;49;00m\u001b[43m \u001b[49m\u001b[43m(\u001b[49m\u001b[43mi\u001b[49m\u001b[43m,\u001b[49m\u001b[43m \u001b[49m\u001b[43mj\u001b[49m\u001b[43m)\u001b[49m\u001b[43m \u001b[49m\u001b[38;5;129;43;01min\u001b[39;49;00m\u001b[43m \u001b[49m\u001b[43mE\u001b[49m\u001b[43m \u001b[49m\u001b[38;5;129;43;01mor\u001b[39;49;00m\u001b[43m \u001b[49m\u001b[43m(\u001b[49m\u001b[43mj\u001b[49m\u001b[43m,\u001b[49m\u001b[43m \u001b[49m\u001b[43mi\u001b[49m\u001b[43m)\u001b[49m\u001b[43m \u001b[49m\u001b[38;5;129;43;01min\u001b[39;49;00m\u001b[43m \u001b[49m\u001b[43mE\u001b[49m\u001b[43m]\u001b[49m \u001b[38;5;28;01mfor\u001b[39;00m i \u001b[38;5;129;01min\u001b[39;00m V}\n",
      "Cell \u001b[0;32mIn[96], line 15\u001b[0m, in \u001b[0;36m<listcomp>\u001b[0;34m(.0)\u001b[0m\n\u001b[1;32m     14\u001b[0m \u001b[38;5;28;01mdef\u001b[39;00m \u001b[38;5;21mconvert_to_g\u001b[39m(V, E):\n\u001b[0;32m---> 15\u001b[0m     \u001b[38;5;28;01mreturn\u001b[39;00m {i: [j \u001b[38;5;28;01mfor\u001b[39;00m j \u001b[38;5;129;01min\u001b[39;00m V \u001b[38;5;28;01mif\u001b[39;00m j\u001b[38;5;241m!=\u001b[39mi \u001b[38;5;129;01mand\u001b[39;00m (i, j) \u001b[38;5;129;01min\u001b[39;00m E \u001b[38;5;129;01mor\u001b[39;00m (j, i) \u001b[38;5;129;01min\u001b[39;00m E] \u001b[38;5;28;01mfor\u001b[39;00m i \u001b[38;5;129;01min\u001b[39;00m V}\n",
      "\u001b[0;31mKeyboardInterrupt\u001b[0m: "
     ]
    }
   ],
   "source": [
    "for _ in range(1000000):\n",
    "    V, E = generate_random_graph()\n",
    "    g = convert_to_g(V, E)\n",
    "    G = convert_to_G(V, E)\n",
    "    #print(\"nx  \", list(nx.connected_components(G)), \"\\nmine\", my_connected_components(g))\n",
    "    if len(list(nx.connected_components(G))) != my_connected_components(g).find():\n",
    "        print(\"Failure\")\n",
    "        print(g)\n",
    "        print(\"nx  \", list(nx.connected_components(G)), \"\\nmine\", my_connected_components(g).find())\n",
    "        #plot_graph(G)\n",
    "    #print(g)\n",
    "    #plot_graph(G)\n",
    "    #plt.show()\n"
   ]
  },
  {
   "cell_type": "code",
   "execution_count": null,
   "id": "db2ca9a1-4806-4382-8ec7-5cb79fc2e521",
   "metadata": {},
   "outputs": [],
   "source": []
  },
  {
   "cell_type": "code",
   "execution_count": null,
   "id": "76faa9a2-31b6-40fb-b5ed-ad3b89e77e9c",
   "metadata": {},
   "outputs": [],
   "source": []
  },
  {
   "cell_type": "code",
   "execution_count": null,
   "id": "95a11d3c-ca9f-4ea7-a426-559f3faa21e5",
   "metadata": {},
   "outputs": [],
   "source": []
  },
  {
   "cell_type": "code",
   "execution_count": null,
   "id": "9c6b41a6-e052-4cf1-b0e2-f61cbc5fbfb3",
   "metadata": {},
   "outputs": [],
   "source": []
  },
  {
   "cell_type": "code",
   "execution_count": null,
   "id": "5e7eefc8-15af-4899-8eae-bc973807e9b0",
   "metadata": {},
   "outputs": [],
   "source": []
  },
  {
   "cell_type": "code",
   "execution_count": null,
   "id": "921e8b20-3e88-4338-aadb-a3f0e663f50e",
   "metadata": {},
   "outputs": [],
   "source": []
  },
  {
   "cell_type": "code",
   "execution_count": null,
   "id": "e0dc3bd7-7558-40a3-8d48-11a1a752cf1b",
   "metadata": {},
   "outputs": [],
   "source": []
  }
 ],
 "metadata": {
  "kernelspec": {
   "display_name": "Python 3 (ipykernel)",
   "language": "python",
   "name": "python3"
  },
  "language_info": {
   "codemirror_mode": {
    "name": "ipython",
    "version": 3
   },
   "file_extension": ".py",
   "mimetype": "text/x-python",
   "name": "python",
   "nbconvert_exporter": "python",
   "pygments_lexer": "ipython3",
   "version": "3.11.2"
  }
 },
 "nbformat": 4,
 "nbformat_minor": 5
}

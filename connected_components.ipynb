{
 "cells": [
  {
   "cell_type": "code",
   "execution_count": 2,
   "id": "2e7955e2-a56a-4e25-b79d-8c334634f63c",
   "metadata": {},
   "outputs": [],
   "source": [
    "import networkx as nx\n",
    "import random\n",
    "import matplotlib.pyplot as plt"
   ]
  },
  {
   "cell_type": "code",
   "execution_count": 4,
   "id": "460f0340-1d8b-4412-8d9e-4a649ce7cfb9",
   "metadata": {},
   "outputs": [],
   "source": [
    "def build_graph(nodes, edges):\n",
    "    return {i: [j for j in nodes if j!=i and (i, j) in edges or (j, i) in edges] for i in nodes}"
   ]
  },
  {
   "cell_type": "code",
   "execution_count": 5,
   "id": "7186f36f-49c9-4086-81ea-b0e2a97bcde4",
   "metadata": {},
   "outputs": [
    {
     "data": {
      "text/plain": [
       "{1: [2, 5], 2: [1], 3: [4], 4: [3], 5: [1]}"
      ]
     },
     "execution_count": 5,
     "metadata": {},
     "output_type": "execute_result"
    }
   ],
   "source": [
    "nodes = [1, 2, 3, 4, 5]\n",
    "edges = [(1, 2), (3, 4), (1, 5)]\n",
    "build_graph(nodes, edges)"
   ]
  },
  {
   "cell_type": "code",
   "execution_count": 6,
   "id": "c658422e-6ea5-4868-9892-e1d70613cdd5",
   "metadata": {},
   "outputs": [],
   "source": [
    "g = build_graph(nodes, edges)"
   ]
  },
  {
   "cell_type": "code",
   "execution_count": 47,
   "id": "4f2407ed-fae6-4d82-ad72-118581f00942",
   "metadata": {},
   "outputs": [
    {
     "name": "stdout",
     "output_type": "stream",
     "text": [
      "[{2, 7}, {3, 7}, {2, 3, 7}]\n",
      "[]\n",
      "elem 2 ws None\n",
      "elem 7 ws 0\n",
      "[{2, 7}]\n",
      "elem 2 ws 0\n",
      "elem 3 ws None\n",
      "elem 7 ws 0\n",
      "[{2, 7}, {2, 3, 7}]\n",
      "elem 2 ws 0\n",
      "elem 3 ws 1\n",
      "elem 7 ws 0\n",
      "[{2, 7}, {2, 3, 7}]\n",
      "elem 2 ws 0\n",
      "elem 3 ws 1\n",
      "elem 7 ws 0\n",
      "[{2, 7}, {2, 3, 7}]\n",
      "elem 3 ws 1\n",
      "elem 7 ws 0\n",
      "[{2, 7}, {2, 3, 7}]\n",
      "elem 2 ws 0\n",
      "elem 3 ws 1\n",
      "elem 7 ws 0\n",
      "[{2, 7}, {2, 3, 7}]\n",
      "elem 2 ws 0\n",
      "elem 3 ws 1\n",
      "elem 7 ws 0\n",
      "[{2, 7}, {2, 3, 7}]\n",
      "elem 2 ws 0\n",
      "elem 3 ws 1\n",
      "elem 7 ws 0\n",
      "[{2, 7}, {2, 3, 7}]\n",
      "elem 2 ws 0\n",
      "elem 3 ws 1\n",
      "elem 7 ws 0\n"
     ]
    },
    {
     "data": {
      "text/plain": [
       "[{2, 7}, {2, 3, 7}]"
      ]
     },
     "execution_count": 47,
     "metadata": {},
     "output_type": "execute_result"
    }
   ],
   "source": [
    "def in_any_set(k, cc):\n",
    "    for i, _set in enumerate(cc):\n",
    "        if k in _set:\n",
    "            return True\n",
    "    return False\n",
    "\n",
    "def which_set(k, cc):\n",
    "    for i, _set in enumerate(cc):\n",
    "        if k in _set:\n",
    "            return i\n",
    "    return None\n",
    "\n",
    "def my_connected_components(g):\n",
    "    cc = []\n",
    "    g_list = [set([key, *value]) for key, value in g.items() if value != []]\n",
    "    print(g_list)\n",
    "    for s1 in g_list:\n",
    "        for s2 in g_list:\n",
    "            #print(s1, s2, \"intersec\", s1 & s2)\n",
    "            if s1 & s2 != set():\n",
    "                print(cc)\n",
    "                u = s1.union(s2)\n",
    "                for elem in u:\n",
    "                    #print(\"elem\", elem)\n",
    "                    ws = which_set(elem, cc)\n",
    "                    print(\"elem\", elem, \"ws\", ws)\n",
    "                    if ws != None:\n",
    "                        cc[ws].add(elem)\n",
    "                    else:\n",
    "                        cc.append(u)    \n",
    "    return cc\n",
    "        \n",
    "\n",
    "#my_connected_components(g)\n",
    "my_connected_components({1: [], 2: [7], 3: [7], 4: [], 5: [], 6: [], 7: [2, 3]})"
   ]
  },
  {
   "cell_type": "code",
   "execution_count": 30,
   "id": "ecb0e9d6-f6e0-48d5-acae-ee138152a4e6",
   "metadata": {},
   "outputs": [
    {
     "name": "stdout",
     "output_type": "stream",
     "text": [
      "1 2 3 4 5\n"
     ]
    },
    {
     "data": {
      "text/plain": [
       "[[1, 2, 5], [2, 1], [3, 4], [4, 3], [5, 1]]"
      ]
     },
     "execution_count": 30,
     "metadata": {},
     "output_type": "execute_result"
    }
   ],
   "source": [
    "a = {1: [], 2: [1], 3: [4], 4: [3], 5: [1]}\n",
    "print(*a)\n",
    "[[key, *value] for key, value in g.items() if value != []]"
   ]
  },
  {
   "cell_type": "code",
   "execution_count": 26,
   "id": "7cc5da90-c456-4b25-a1e7-091927463b6c",
   "metadata": {},
   "outputs": [
    {
     "name": "stdout",
     "output_type": "stream",
     "text": [
      "{1, 2, 5}\n",
      "{1, 2}\n",
      "{1, 5}\n",
      "{1, 2}\n",
      "{1, 2}\n",
      "{1}\n",
      "{3, 4}\n",
      "{3, 4}\n",
      "{3, 4}\n",
      "{3, 4}\n",
      "{1, 5}\n",
      "{1}\n",
      "{1, 5}\n"
     ]
    }
   ],
   "source": [
    "a = [{1, 2, 5}, {1, 2}, {3, 4}, {3, 4}, {1, 5}]\n",
    "for s1 in a:\n",
    "    for s2 in a:\n",
    "        u = s1 & s2\n",
    "        if u != set():\n",
    "            print(u)"
   ]
  },
  {
   "cell_type": "code",
   "execution_count": null,
   "id": "2787d4cb-d7aa-47a9-bd70-7c3f628b88f0",
   "metadata": {},
   "outputs": [],
   "source": []
  }
 ],
 "metadata": {
  "kernelspec": {
   "display_name": "Python 3 (ipykernel)",
   "language": "python",
   "name": "python3"
  },
  "language_info": {
   "codemirror_mode": {
    "name": "ipython",
    "version": 3
   },
   "file_extension": ".py",
   "mimetype": "text/x-python",
   "name": "python",
   "nbconvert_exporter": "python",
   "pygments_lexer": "ipython3",
   "version": "3.11.2"
  }
 },
 "nbformat": 4,
 "nbformat_minor": 5
}
